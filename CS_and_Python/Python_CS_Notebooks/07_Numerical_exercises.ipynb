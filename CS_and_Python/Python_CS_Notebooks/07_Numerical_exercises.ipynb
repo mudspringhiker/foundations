{
 "cells": [
  {
   "cell_type": "markdown",
   "metadata": {},
   "source": [
    "### Exercise 07.1\n",
    "\n",
    "Create two very long NumPy arrays `x` and `y` and sum the arrays using:\n",
    "\n",
    "1. The NumPy addition syntax, `z = x + y`;\n",
    "2. A `for` loop that computes the sum entry-by-entry\n",
    "\n",
    "Compare the time requred for the two approaches for vectors of different lenghts. The values of the array entries are not import for this test.\n",
    "\n",
    "*Hint*: To loop over an array using indeces, try a construction like:\n",
    "\n",
    "```\n",
    "x = np.ones(100)\n",
    "y = np.ones(len(x))\n",
    "for i in range(len(x)):\n",
    "    print(x[i] * y[i])\n",
    "```"
   ]
  },
  {
   "cell_type": "code",
   "execution_count": null,
   "metadata": {
    "collapsed": true
   },
   "outputs": [],
   "source": []
  },
  {
   "cell_type": "markdown",
   "metadata": {},
   "source": [
    "### Exercise 07.2\n",
    "\n",
    "Anonymised scores (out of 60) for an examination are stored in a NumPy array. Write:\n",
    "\n",
    "- A function that takes a NumPy array of the raw scores and returns the scores as a percentage sorted from lowest to highest (try using `scores.sort()`, where scores in a NumPy array holding the scores).\n",
    "\n"
   ]
  },
  {
   "cell_type": "code",
   "execution_count": 1,
   "metadata": {
    "collapsed": true
   },
   "outputs": [],
   "source": [
    "import numpy as np"
   ]
  },
  {
   "cell_type": "code",
   "execution_count": 2,
   "metadata": {
    "collapsed": true
   },
   "outputs": [],
   "source": [
    "def sorted_scores(scores, total):\n",
    "    \"\"\"Returns a sorted percentage of grades.\"\"\"\n",
    "    scores_sorted = (np.array(scores) / total * 100)\n",
    "    scores_sorted.sort()\n",
    "    return scores_sorted"
   ]
  },
  {
   "cell_type": "code",
   "execution_count": 3,
   "metadata": {
    "collapsed": true
   },
   "outputs": [],
   "source": [
    "scores =[89, 90, 56, 78, 93, 43, 67, 78, 68, 94, 89]"
   ]
  },
  {
   "cell_type": "code",
   "execution_count": 4,
   "metadata": {},
   "outputs": [
    {
     "name": "stdout",
     "output_type": "stream",
     "text": [
      "[ 35.83333333  46.66666667  55.83333333  56.66666667  65.          65.\n",
      "  74.16666667  74.16666667  75.          77.5         78.33333333]\n"
     ]
    }
   ],
   "source": [
    "print(sorted_scores(scores, 120))"
   ]
  },
  {
   "cell_type": "markdown",
   "metadata": {},
   "source": [
    "- A function that returns the maximum, minimum and mean of the raw scores as a dictionary with the keys 'min', 'max', and 'mean'. Use the NumPy array functions `min()`, and `mean()` to do the computation, e.g. `max = scores.max()`."
   ]
  },
  {
   "cell_type": "code",
   "execution_count": 5,
   "metadata": {
    "collapsed": true
   },
   "outputs": [],
   "source": [
    "scores = sorted_scores(scores, 120)"
   ]
  },
  {
   "cell_type": "code",
   "execution_count": 6,
   "metadata": {},
   "outputs": [
    {
     "data": {
      "text/plain": [
       "numpy.ndarray"
      ]
     },
     "execution_count": 6,
     "metadata": {},
     "output_type": "execute_result"
    }
   ],
   "source": [
    "type(scores)"
   ]
  },
  {
   "cell_type": "code",
   "execution_count": 7,
   "metadata": {
    "collapsed": true
   },
   "outputs": [],
   "source": [
    "def statistics(scores):\n",
    "    stats = {}\n",
    "    stats['min'] = scores.min()\n",
    "    stats['max'] = scores.max()\n",
    "    stats['mean'] = scores.mean()\n",
    "    return stats"
   ]
  },
  {
   "cell_type": "code",
   "execution_count": 8,
   "metadata": {},
   "outputs": [
    {
     "data": {
      "text/plain": [
       "{'max': 78.333333333333329,\n",
       " 'mean': 64.015151515151516,\n",
       " 'min': 35.833333333333336}"
      ]
     },
     "execution_count": 8,
     "metadata": {},
     "output_type": "execute_result"
    }
   ],
   "source": [
    "statistics(scores)"
   ]
  },
  {
   "cell_type": "markdown",
   "metadata": {},
   "source": [
    "- Modify your function for the min, max, and mean to optionally exclude the highest and lowest scores from the computation of the min, max and mean. *Hint*: sort the array of scores and use array sclicing to exclude the first and the last entries."
   ]
  },
  {
   "cell_type": "code",
   "execution_count": null,
   "metadata": {
    "collapsed": true
   },
   "outputs": [],
   "source": []
  }
 ],
 "metadata": {
  "anaconda-cloud": {},
  "kernelspec": {
   "display_name": "Python [conda env:py36]",
   "language": "python",
   "name": "conda-env-py36-py"
  },
  "language_info": {
   "codemirror_mode": {
    "name": "ipython",
    "version": 3
   },
   "file_extension": ".py",
   "mimetype": "text/x-python",
   "name": "python",
   "nbconvert_exporter": "python",
   "pygments_lexer": "ipython3",
   "version": "3.6.0"
  }
 },
 "nbformat": 4,
 "nbformat_minor": 1
}
