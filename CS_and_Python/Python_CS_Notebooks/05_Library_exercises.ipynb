{
 "cells": [
  {
   "cell_type": "markdown",
   "metadata": {},
   "source": [
    "## Examples"
   ]
  },
  {
   "cell_type": "code",
   "execution_count": 1,
   "metadata": {
    "collapsed": true
   },
   "outputs": [],
   "source": [
    "from cmath import sqrt"
   ]
  },
  {
   "cell_type": "code",
   "execution_count": 2,
   "metadata": {
    "collapsed": true
   },
   "outputs": [],
   "source": [
    "def compute_roots(a, b, c):\n",
    "    \"\"\"Compute roots of the polynomial f(x) = ax^2 + bx + c\"\"\"\n",
    "    \n",
    "    root0 = (-b + sqrt(b*b - 4*a*c)) / (2*a)\n",
    "    root1 = (-b - sqrt(b*b - 4*a*c)) / (2*a)\n",
    "    \n",
    "    return root0, root1"
   ]
  },
  {
   "cell_type": "code",
   "execution_count": 3,
   "metadata": {},
   "outputs": [
    {
     "data": {
      "text/plain": [
       "((-0.10435607626104004+0j), (-2.3956439237389597+0j))"
      ]
     },
     "execution_count": 3,
     "metadata": {},
     "output_type": "execute_result"
    }
   ],
   "source": [
    "compute_roots(4, 10, 1)"
   ]
  },
  {
   "cell_type": "code",
   "execution_count": 4,
   "metadata": {},
   "outputs": [
    {
     "name": "stdout",
     "output_type": "stream",
     "text": [
      "((-0.125+0.09682458365518543j), (-0.125-0.09682458365518543j))\n"
     ]
    }
   ],
   "source": [
    "print(compute_roots(40,10,1))"
   ]
  },
  {
   "cell_type": "markdown",
   "metadata": {},
   "source": [
    "#### Parallel Processing"
   ]
  },
  {
   "cell_type": "code",
   "execution_count": 5,
   "metadata": {},
   "outputs": [
    {
     "data": {
      "text/plain": [
       "[24, 11, 96, 82, 42, 7, 71, 27, 94, 6]"
      ]
     },
     "execution_count": 5,
     "metadata": {},
     "output_type": "execute_result"
    }
   ],
   "source": [
    "import random\n",
    "x = random.sample(range(0,100), 10)\n",
    "x"
   ]
  },
  {
   "cell_type": "code",
   "execution_count": 6,
   "metadata": {
    "collapsed": true
   },
   "outputs": [],
   "source": [
    "y = sorted(x)"
   ]
  },
  {
   "cell_type": "code",
   "execution_count": 7,
   "metadata": {},
   "outputs": [
    {
     "data": {
      "text/plain": [
       "[6, 7, 11, 24, 27, 42, 71, 82, 94, 96]"
      ]
     },
     "execution_count": 7,
     "metadata": {},
     "output_type": "execute_result"
    }
   ],
   "source": [
    "y"
   ]
  },
  {
   "cell_type": "code",
   "execution_count": 8,
   "metadata": {
    "collapsed": true
   },
   "outputs": [],
   "source": [
    "import multiprocessing"
   ]
  },
  {
   "cell_type": "code",
   "execution_count": 9,
   "metadata": {
    "collapsed": true
   },
   "outputs": [],
   "source": [
    "def mysort(N):\n",
    "    \"\"\"Create a list of random numbers of length N, and return a sorted list\"\"\"\n",
    "    x = random.sample(range(0, N), N)\n",
    "    print(\"Process id: {}\".format(multiprocessing.current_process()))\n",
    "    return sorted(x)"
   ]
  },
  {
   "cell_type": "code",
   "execution_count": 14,
   "metadata": {},
   "outputs": [
    {
     "name": "stdout",
     "output_type": "stream",
     "text": [
      "Process id: <_MainProcess(MainProcess, started)>\n"
     ]
    },
    {
     "data": {
      "text/plain": [
       "[0, 1, 2, 3, 4]"
      ]
     },
     "execution_count": 14,
     "metadata": {},
     "output_type": "execute_result"
    }
   ],
   "source": [
    "mysort(5)"
   ]
  },
  {
   "cell_type": "code",
   "execution_count": 15,
   "metadata": {},
   "outputs": [
    {
     "name": "stdout",
     "output_type": "stream",
     "text": [
      "Process id: <_MainProcess(MainProcess, started)>\n"
     ]
    },
    {
     "data": {
      "text/plain": [
       "[0, 1, 2, 3, 4, 5, 6, 7, 8, 9]"
      ]
     },
     "execution_count": 15,
     "metadata": {},
     "output_type": "execute_result"
    }
   ],
   "source": [
    "mysort(10)"
   ]
  },
  {
   "cell_type": "code",
   "execution_count": null,
   "metadata": {
    "collapsed": true
   },
   "outputs": [],
   "source": []
  },
  {
   "cell_type": "code",
   "execution_count": 10,
   "metadata": {},
   "outputs": [
    {
     "name": "stdout",
     "output_type": "stream",
     "text": [
      "Process id: <ForkProcess(ForkPoolWorker-2, started daemon)>\n",
      "Process id: <ForkProcess(ForkPoolWorker-1, started daemon)>\n",
      "Process id: <ForkProcess(ForkPoolWorker-3, started daemon)>\n"
     ]
    }
   ],
   "source": [
    "N = 20000\n",
    "with multiprocessing.Pool(processes=3) as p:\n",
    "    p.map(mysort, [N, N, N])"
   ]
  },
  {
   "cell_type": "code",
   "execution_count": 11,
   "metadata": {
    "collapsed": true
   },
   "outputs": [],
   "source": [
    "def parallel_sort(N, num_proc):\n",
    "    \"\"\"Create three lists of random numbers (each of length N) using num_proc processes\"\"\"\n",
    "    with multiprocessing.Pool(processes=num_proc) as p:\n",
    "        p.map(mysort, [N, N, N])"
   ]
  },
  {
   "cell_type": "code",
   "execution_count": 12,
   "metadata": {},
   "outputs": [
    {
     "name": "stdout",
     "output_type": "stream",
     "text": [
      "CPU times: user 3 µs, sys: 1e+03 ns, total: 4 µs\n",
      "Wall time: 25 µs\n",
      "Process id: <ForkProcess(ForkPoolWorker-4, started daemon)>\n",
      "Process id: <ForkProcess(ForkPoolWorker-4, started daemon)>\n",
      "Process id: <ForkProcess(ForkPoolWorker-4, started daemon)>\n"
     ]
    }
   ],
   "source": [
    "N=500000\n",
    "%time\n",
    "parallel_sort(N, 1)"
   ]
  },
  {
   "cell_type": "code",
   "execution_count": 13,
   "metadata": {},
   "outputs": [
    {
     "name": "stdout",
     "output_type": "stream",
     "text": [
      "Process id: <ForkProcess(ForkPoolWorker-5, started daemon)>\n",
      "Process id: <ForkProcess(ForkPoolWorker-5, started daemon)>\n",
      "Process id: <ForkProcess(ForkPoolWorker-5, started daemon)>\n",
      "CPU times: user 88.4 ms, sys: 62.3 ms, total: 151 ms\n",
      "Wall time: 4.25 s\n"
     ]
    }
   ],
   "source": [
    "N=500000\n",
    "%time parallel_sort(N, 1)"
   ]
  },
  {
   "cell_type": "code",
   "execution_count": 16,
   "metadata": {},
   "outputs": [
    {
     "name": "stdout",
     "output_type": "stream",
     "text": [
      "Process id: <ForkProcess(ForkPoolWorker-7, started daemon)>\n",
      "Process id: <ForkProcess(ForkPoolWorker-6, started daemon)>\n",
      "Process id: <ForkProcess(ForkPoolWorker-8, started daemon)>\n",
      "CPU times: user 98.3 ms, sys: 81.4 ms, total: 180 ms\n",
      "Wall time: 2.3 s\n"
     ]
    }
   ],
   "source": [
    "%time parallel_sort(N, 4)"
   ]
  },
  {
   "cell_type": "markdown",
   "metadata": {},
   "source": [
    "### Exercise 05.1\n",
    "\n",
    "- Using the `randint` function from the `random` module, develop a function that emulates the roll of a dice with $n$ sides\n",
    "\n",
    "- for $n = 6$, devise and implement a test to check that it is fair dice."
   ]
  },
  {
   "cell_type": "code",
   "execution_count": 17,
   "metadata": {
    "collapsed": true
   },
   "outputs": [],
   "source": [
    "import random"
   ]
  },
  {
   "cell_type": "code",
   "execution_count": 18,
   "metadata": {
    "collapsed": true
   },
   "outputs": [],
   "source": [
    "def roll_dice(n):\n",
    "    return random.randint(1, n)"
   ]
  },
  {
   "cell_type": "code",
   "execution_count": 19,
   "metadata": {},
   "outputs": [
    {
     "data": {
      "text/plain": [
       "3"
      ]
     },
     "execution_count": 19,
     "metadata": {},
     "output_type": "execute_result"
    }
   ],
   "source": [
    "roll_dice(6)"
   ]
  },
  {
   "cell_type": "code",
   "execution_count": 81,
   "metadata": {},
   "outputs": [],
   "source": [
    "rolls = []\n",
    "for i in range(1000000):\n",
    "    roll = roll_dice(6)\n",
    "    rolls.append(roll)"
   ]
  },
  {
   "cell_type": "code",
   "execution_count": 82,
   "metadata": {},
   "outputs": [],
   "source": [
    "from collections import Counter"
   ]
  },
  {
   "cell_type": "code",
   "execution_count": 83,
   "metadata": {},
   "outputs": [],
   "source": [
    "roll_counts = Counter(rolls)"
   ]
  },
  {
   "cell_type": "code",
   "execution_count": 84,
   "metadata": {},
   "outputs": [
    {
     "data": {
      "text/plain": [
       "dict_values([166829, 166929, 166490, 166293, 166706, 166753])"
      ]
     },
     "execution_count": 84,
     "metadata": {},
     "output_type": "execute_result"
    }
   ],
   "source": [
    "roll_counts.values()"
   ]
  },
  {
   "cell_type": "code",
   "execution_count": 85,
   "metadata": {},
   "outputs": [
    {
     "data": {
      "text/plain": [
       "dict_keys([5, 4, 2, 3, 1, 6])"
      ]
     },
     "execution_count": 85,
     "metadata": {},
     "output_type": "execute_result"
    }
   ],
   "source": [
    "roll_counts.keys()"
   ]
  },
  {
   "cell_type": "code",
   "execution_count": 86,
   "metadata": {},
   "outputs": [
    {
     "data": {
      "text/plain": [
       "Counter({1: 166706, 2: 166490, 3: 166293, 4: 166929, 5: 166829, 6: 166753})"
      ]
     },
     "execution_count": 86,
     "metadata": {},
     "output_type": "execute_result"
    }
   ],
   "source": [
    "roll_counts"
   ]
  },
  {
   "cell_type": "code",
   "execution_count": 88,
   "metadata": {},
   "outputs": [
    {
     "name": "stdout",
     "output_type": "stream",
     "text": [
      "Fraction 5: 0.17\n",
      "Fraction 4: 0.17\n",
      "Fraction 2: 0.17\n",
      "Fraction 3: 0.17\n",
      "Fraction 1: 0.17\n",
      "Fraction 6: 0.17\n"
     ]
    }
   ],
   "source": [
    "for key, value in roll_counts.items():\n",
    "    print(\"Fraction {}: {:.2}\".format(key, value / sum(roll_counts.values())))"
   ]
  },
  {
   "cell_type": "markdown",
   "metadata": {},
   "source": [
    "### Exercise 05.2\n",
    "\n",
    "For devices with limited memory, data compression can be important. Data compression is a field of its own, but with libraries we can compress and uncompress data easily.\n",
    "\n",
    "Below is a program code for compressing a passage from Hamlet, by Shakespeare."
   ]
  },
  {
   "cell_type": "code",
   "execution_count": 36,
   "metadata": {
    "collapsed": true
   },
   "outputs": [],
   "source": [
    "import zlib"
   ]
  },
  {
   "cell_type": "code",
   "execution_count": 37,
   "metadata": {
    "collapsed": true
   },
   "outputs": [],
   "source": [
    "text = \"\"\"\n",
    "Welcome, dear Rosencrantz and Guildenstern!\n",
    "Moreover that we much did long to see you,\n",
    "The need we have to use you did provoke\n",
    "Our hasty sending. Something have you heard\n",
    "Of Hamlet's transformation; so call it,\n",
    "Sith nor the exterior nor the inward man\n",
    "Resembles that it was. What it should be,\n",
    "More than his father's death, that thus hath put him\n",
    "So much from the understanding of himself,\n",
    "I cannot dream of: I entreat you both,\n",
    "That, being of so young days brought up with him,\n",
    "And sith so neighbour'd to his youth and havior,\n",
    "That you vouchsafe your rest here in our court\n",
    "Some little time: so by your companies\n",
    "To draw him on to pleasures, and to gather,\n",
    "So much as from occasion you may glean,\n",
    "Whether aught, to us unknown, afflicts him thus,\n",
    "That, open'd, lies within our remedy.\n",
    "\"\"\""
   ]
  },
  {
   "cell_type": "code",
   "execution_count": 38,
   "metadata": {
    "collapsed": true
   },
   "outputs": [],
   "source": [
    "text_bytes = text.encode(\"utf-8\")"
   ]
  },
  {
   "cell_type": "code",
   "execution_count": 40,
   "metadata": {},
   "outputs": [
    {
     "name": "stdout",
     "output_type": "stream",
     "text": [
      "Number of bytes for uncompressed string: 786\n"
     ]
    }
   ],
   "source": [
    "print(\"Number of bytes for uncompressed string: {}\".format(len(text_bytes)))"
   ]
  },
  {
   "cell_type": "code",
   "execution_count": 41,
   "metadata": {
    "collapsed": true
   },
   "outputs": [],
   "source": [
    "text_comp = zlib.compress(text_bytes)"
   ]
  },
  {
   "cell_type": "code",
   "execution_count": 42,
   "metadata": {},
   "outputs": [
    {
     "name": "stdout",
     "output_type": "stream",
     "text": [
      "Number of bytes for compressed string: 467\n"
     ]
    }
   ],
   "source": [
    "print(\"Number of bytes for compressed string: {}\".format(len(text_comp)))"
   ]
  },
  {
   "cell_type": "code",
   "execution_count": 43,
   "metadata": {},
   "outputs": [
    {
     "name": "stdout",
     "output_type": "stream",
     "text": [
      "Compression efficiency: 0.594147582697201\n"
     ]
    }
   ],
   "source": [
    "print(\"Compression efficiency: {}\".format(len(text_comp) / len(text_bytes)))"
   ]
  },
  {
   "cell_type": "code",
   "execution_count": 44,
   "metadata": {
    "collapsed": true
   },
   "outputs": [],
   "source": [
    "# Decompress the string:\n",
    "text_decomp = zlib.decompress(text_comp)"
   ]
  },
  {
   "cell_type": "code",
   "execution_count": 45,
   "metadata": {},
   "outputs": [
    {
     "name": "stdout",
     "output_type": "stream",
     "text": [
      "All good: original and decompressed strings are the same.\n"
     ]
    }
   ],
   "source": [
    "# Check that the original and decompressed strings are the same:\n",
    "if text == text_decomp.decode(\"utf-8\"):\n",
    "    print(\"All good: original and decompressed strings are the same.\")\n",
    "else:\n",
    "    pritn(\"Problem: original and decompressed strings differ.\")"
   ]
  },
  {
   "cell_type": "markdown",
   "metadata": {},
   "source": [
    "Using the above as guide, examine the compression efficiency of \n",
    "\n",
    "1. Compressing one large string made up of the passage by Shakespeare repeated 100 times;\n",
    "2. Compressing a random string of the same length as the repeated Shakespeare passage.\n",
    "\n",
    "To help you, the below function generates a random string of length N:"
   ]
  },
  {
   "cell_type": "code",
   "execution_count": 46,
   "metadata": {
    "collapsed": true
   },
   "outputs": [],
   "source": [
    "import string"
   ]
  },
  {
   "cell_type": "code",
   "execution_count": 47,
   "metadata": {
    "collapsed": true
   },
   "outputs": [],
   "source": [
    "def random_string(N):\n",
    "    return ''.join([random.choice(string.ascii_letters + string.digits) for n in range(N)])"
   ]
  },
  {
   "cell_type": "code",
   "execution_count": 48,
   "metadata": {},
   "outputs": [
    {
     "name": "stdout",
     "output_type": "stream",
     "text": [
      "tAQ99QgM\n"
     ]
    }
   ],
   "source": [
    "print(random_string(8))"
   ]
  },
  {
   "cell_type": "code",
   "execution_count": 49,
   "metadata": {
    "collapsed": true
   },
   "outputs": [],
   "source": [
    "# A large string made up of the passage by Shakespeare repeated 100x:"
   ]
  },
  {
   "cell_type": "code",
   "execution_count": 50,
   "metadata": {},
   "outputs": [
    {
     "data": {
      "text/plain": [
       "\"\\nWelcome, dear Rosencrantz and Guildenstern!\\nMoreover that we much did long to see you,\\nThe need we have to use you did provoke\\nOur hasty sending. Something have you heard\\nOf Hamlet's transformation; so call it,\\nSith nor the exterior nor the inward man\\nResembles that it was. What it should be,\\nMore than his father's death, that thus hath put him\\nSo much from the understanding of himself,\\nI cannot dream of: I entreat you both,\\nThat, being of so young days brought up with him,\\nAnd sith so neighbour'd to his youth and havior,\\nThat you vouchsafe your rest here in our court\\nSome little time: so by your companies\\nTo draw him on to pleasures, and to gather,\\nSo much as from occasion you may glean,\\nWhether aught, to us unknown, afflicts him thus,\\nThat, open'd, lies within our remedy.\\n\""
      ]
     },
     "execution_count": 50,
     "metadata": {},
     "output_type": "execute_result"
    }
   ],
   "source": [
    "text"
   ]
  },
  {
   "cell_type": "code",
   "execution_count": 51,
   "metadata": {},
   "outputs": [
    {
     "data": {
      "text/plain": [
       "786"
      ]
     },
     "execution_count": 51,
     "metadata": {},
     "output_type": "execute_result"
    }
   ],
   "source": [
    "len(text)"
   ]
  },
  {
   "cell_type": "code",
   "execution_count": 58,
   "metadata": {},
   "outputs": [
    {
     "name": "stdout",
     "output_type": "stream",
     "text": [
      "there is a blank\n",
      "there is a blank\n",
      "there is a blank\n",
      "there is a blank\n"
     ]
    }
   ],
   "source": [
    "count = 0\n",
    "for i in text:\n",
    "    if count == 50:\n",
    "        break\n",
    "    if i == ' ':\n",
    "        print('there is a blank')\n",
    "    count += 1"
   ]
  },
  {
   "cell_type": "code",
   "execution_count": 55,
   "metadata": {},
   "outputs": [
    {
     "data": {
      "text/plain": [
       "786"
      ]
     },
     "execution_count": 55,
     "metadata": {},
     "output_type": "execute_result"
    }
   ],
   "source": [
    "count"
   ]
  },
  {
   "cell_type": "code",
   "execution_count": 59,
   "metadata": {
    "collapsed": true
   },
   "outputs": [],
   "source": [
    "one_large_string = ''.join(text.split())"
   ]
  },
  {
   "cell_type": "code",
   "execution_count": 62,
   "metadata": {},
   "outputs": [],
   "source": [
    "one_large_string = one_large_string * 100"
   ]
  },
  {
   "cell_type": "code",
   "execution_count": 63,
   "metadata": {
    "collapsed": true
   },
   "outputs": [],
   "source": [
    "large_string_bytes = one_large_string.encode(\"utf-8\")"
   ]
  },
  {
   "cell_type": "code",
   "execution_count": 64,
   "metadata": {},
   "outputs": [
    {
     "name": "stdout",
     "output_type": "stream",
     "text": [
      "<class 'bytes'>\n"
     ]
    }
   ],
   "source": [
    "print(type(large_string_bytes))"
   ]
  },
  {
   "cell_type": "code",
   "execution_count": 65,
   "metadata": {},
   "outputs": [
    {
     "data": {
      "text/plain": [
       "64200"
      ]
     },
     "execution_count": 65,
     "metadata": {},
     "output_type": "execute_result"
    }
   ],
   "source": [
    "len(large_string_bytes)"
   ]
  },
  {
   "cell_type": "code",
   "execution_count": 66,
   "metadata": {
    "collapsed": true
   },
   "outputs": [],
   "source": [
    "large_string_comp = zlib.compress(large_string_bytes)"
   ]
  },
  {
   "cell_type": "code",
   "execution_count": 67,
   "metadata": {},
   "outputs": [
    {
     "data": {
      "text/plain": [
       "783"
      ]
     },
     "execution_count": 67,
     "metadata": {},
     "output_type": "execute_result"
    }
   ],
   "source": [
    "len(large_string_comp)"
   ]
  },
  {
   "cell_type": "code",
   "execution_count": 68,
   "metadata": {},
   "outputs": [
    {
     "name": "stdout",
     "output_type": "stream",
     "text": [
      "Compression efficiency: 0.012196261682242991\n"
     ]
    }
   ],
   "source": [
    "print(\"Compression efficiency: {}\".format( len(large_string_comp)/len(large_string_bytes)))"
   ]
  },
  {
   "cell_type": "code",
   "execution_count": 69,
   "metadata": {
    "collapsed": true
   },
   "outputs": [],
   "source": [
    "large_string_decomp = zlib.decompress(large_string_comp)"
   ]
  },
  {
   "cell_type": "code",
   "execution_count": 70,
   "metadata": {},
   "outputs": [
    {
     "data": {
      "text/plain": [
       "True"
      ]
     },
     "execution_count": 70,
     "metadata": {},
     "output_type": "execute_result"
    }
   ],
   "source": [
    "one_large_string == large_string_decomp.decode(\"utf-8\")"
   ]
  },
  {
   "cell_type": "markdown",
   "metadata": {},
   "source": [
    "Compressing a random string of the same length as the repeated Shakespeare passge:"
   ]
  },
  {
   "cell_type": "code",
   "execution_count": 71,
   "metadata": {
    "collapsed": true
   },
   "outputs": [],
   "source": [
    "random_string = random_string(len(one_large_string))"
   ]
  },
  {
   "cell_type": "code",
   "execution_count": 73,
   "metadata": {},
   "outputs": [],
   "source": [
    "random_string_bytes = random_string.encode(\"utf-8\")"
   ]
  },
  {
   "cell_type": "code",
   "execution_count": 74,
   "metadata": {
    "collapsed": true
   },
   "outputs": [],
   "source": [
    "random_string_comp = zlib.compress(random_string_bytes)"
   ]
  },
  {
   "cell_type": "code",
   "execution_count": 75,
   "metadata": {},
   "outputs": [
    {
     "data": {
      "text/plain": [
       "0.7519781931464175"
      ]
     },
     "execution_count": 75,
     "metadata": {},
     "output_type": "execute_result"
    }
   ],
   "source": [
    "len(random_string_comp) / len(random_string_bytes)"
   ]
  },
  {
   "cell_type": "code",
   "execution_count": 76,
   "metadata": {},
   "outputs": [
    {
     "data": {
      "text/plain": [
       "48277"
      ]
     },
     "execution_count": 76,
     "metadata": {},
     "output_type": "execute_result"
    }
   ],
   "source": [
    "len(random_string_comp)"
   ]
  },
  {
   "cell_type": "code",
   "execution_count": 77,
   "metadata": {},
   "outputs": [
    {
     "data": {
      "text/plain": [
       "64200"
      ]
     },
     "execution_count": 77,
     "metadata": {},
     "output_type": "execute_result"
    }
   ],
   "source": [
    "len(random_string_bytes)"
   ]
  },
  {
   "cell_type": "code",
   "execution_count": null,
   "metadata": {
    "collapsed": true
   },
   "outputs": [],
   "source": []
  }
 ],
 "metadata": {
  "anaconda-cloud": {},
  "kernelspec": {
   "display_name": "Python [conda env:py36]",
   "language": "python",
   "name": "conda-env-py36-py"
  },
  "language_info": {
   "codemirror_mode": {
    "name": "ipython",
    "version": 3
   },
   "file_extension": ".py",
   "mimetype": "text/x-python",
   "name": "python",
   "nbconvert_exporter": "python",
   "pygments_lexer": "ipython3",
   "version": "3.6.0"
  }
 },
 "nbformat": 4,
 "nbformat_minor": 1
}
