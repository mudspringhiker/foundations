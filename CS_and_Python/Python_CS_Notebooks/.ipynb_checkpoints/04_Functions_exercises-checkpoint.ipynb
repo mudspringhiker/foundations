{
 "cells": [
  {
   "cell_type": "markdown",
   "metadata": {},
   "source": [
    "# Recursion with functions\n",
    "\n",
    "- a function makes calls to itself.\n",
    "\n",
    "Ex. Fibonacci number\n",
    "\n",
    "The Fibonacci series is defined recursively, i.e. the $n$th term $f_n$ is computed from the preceding terms $f_{n-1}$ and $f_{n-2}:\n",
    "\n",
    "$$\n",
    "f_n = f_{n-1} + f_{n-2}\n",
    "$$\n",
    "\n",
    "for $n > 1$ and with $f_0 = 0$ and $f_1 = 1$.\n",
    "\n",
    "Below is a function that computes the $n$th number in the Fibonacci sequence using a `for` loop inside the function."
   ]
  },
  {
   "cell_type": "code",
   "execution_count": 1,
   "metadata": {
    "collapsed": true
   },
   "outputs": [],
   "source": [
    "def fib(n):\n",
    "    \"\"\"Computes the nth Fibonacci number\"\"\"\n",
    "    # Starting values for f0 and f1\n",
    "    f0, f1 = 0, 1\n",
    "    \n",
    "    # Handle cases n==0 and n==1\n",
    "    if n == 0:\n",
    "        return 0\n",
    "    elif n == 1:\n",
    "        return 1\n",
    "    \n",
    "    # Start loop (from n = 2)\n",
    "    for i in range(2, n + 1): \n",
    "        # compute next term in sequence\n",
    "        f = f1 + f0\n",
    "        \n",
    "        # update f0 and f1\n",
    "        f0 = f1\n",
    "        f1 = f\n",
    "    \n",
    "    # Return Fibonnaci number\n",
    "    return f"
   ]
  },
  {
   "cell_type": "code",
   "execution_count": 2,
   "metadata": {},
   "outputs": [
    {
     "data": {
      "text/plain": [
       "55"
      ]
     },
     "execution_count": 2,
     "metadata": {},
     "output_type": "execute_result"
    }
   ],
   "source": [
    "fib(10)"
   ]
  },
  {
   "cell_type": "markdown",
   "metadata": {},
   "source": [
    "Since the Fibonacci sequence has a recursive structure, the $n$th term is computed from the $n - 1$ and $n - 2$ terms, we could write a function that uses this recursive structure:"
   ]
  },
  {
   "cell_type": "code",
   "execution_count": 3,
   "metadata": {
    "collapsed": true
   },
   "outputs": [],
   "source": [
    "def f(n):\n",
    "    \"\"\"Computes the nth Fibonacci number using recursion\"\"\"\n",
    "    if n == 0:\n",
    "        return 0\n",
    "    elif n == 1:\n",
    "        return 1\n",
    "    else:\n",
    "        return f(n - 1) + f(n - 2)"
   ]
  },
  {
   "cell_type": "code",
   "execution_count": 4,
   "metadata": {},
   "outputs": [
    {
     "name": "stdout",
     "output_type": "stream",
     "text": [
      "55\n"
     ]
    }
   ],
   "source": [
    "print(f(10))"
   ]
  },
  {
   "cell_type": "markdown",
   "metadata": {},
   "source": [
    "## Exercise 04.1\n",
    "\n",
    "Write a function called `is_odd` which takes an integer as an argument and returns `True` if the argument is odd, otherwise returns `False`. Test your function for several values."
   ]
  },
  {
   "cell_type": "code",
   "execution_count": 5,
   "metadata": {
    "collapsed": true
   },
   "outputs": [],
   "source": [
    "def is_odd(n):\n",
    "    \"\"\"Returns True if n is odd, otherwise, returns False.\"\"\"\n",
    "    if n % 2 != 0:\n",
    "        return True\n",
    "    return False"
   ]
  },
  {
   "cell_type": "code",
   "execution_count": 6,
   "metadata": {},
   "outputs": [
    {
     "data": {
      "text/plain": [
       "True"
      ]
     },
     "execution_count": 6,
     "metadata": {},
     "output_type": "execute_result"
    }
   ],
   "source": [
    "is_odd(3)"
   ]
  },
  {
   "cell_type": "code",
   "execution_count": 7,
   "metadata": {},
   "outputs": [
    {
     "data": {
      "text/plain": [
       "False"
      ]
     },
     "execution_count": 7,
     "metadata": {},
     "output_type": "execute_result"
    }
   ],
   "source": [
    "is_odd(4)"
   ]
  },
  {
   "cell_type": "code",
   "execution_count": 8,
   "metadata": {},
   "outputs": [
    {
     "data": {
      "text/plain": [
       "False"
      ]
     },
     "execution_count": 8,
     "metadata": {},
     "output_type": "execute_result"
    }
   ],
   "source": [
    "is_odd(134)"
   ]
  },
  {
   "cell_type": "code",
   "execution_count": 9,
   "metadata": {},
   "outputs": [
    {
     "data": {
      "text/plain": [
       "True"
      ]
     },
     "execution_count": 9,
     "metadata": {},
     "output_type": "execute_result"
    }
   ],
   "source": [
    "is_odd(3295235)"
   ]
  },
  {
   "cell_type": "markdown",
   "metadata": {},
   "source": [
    "## Exercise 04.2\n",
    "\n",
    "Write a single function that takes the components of a vector of length 2 or 3 and returns the magnitude. Use default arguments to handle vectors of length 2 or 3 with the same code. Test your function for correctness against hand calculations for a selection of values.\n"
   ]
  },
  {
   "cell_type": "code",
   "execution_count": 10,
   "metadata": {
    "collapsed": true
   },
   "outputs": [],
   "source": [
    "import math\n",
    "def magnitude(x, y=2):\n",
    "    \"\"\"Takes components of a vector of length 2 and returns the magnitude.\"\"\"\n",
    "    return math.sqrt(x**2 + y**2)"
   ]
  },
  {
   "cell_type": "code",
   "execution_count": 11,
   "metadata": {},
   "outputs": [
    {
     "data": {
      "text/plain": [
       "2.23606797749979"
      ]
     },
     "execution_count": 11,
     "metadata": {},
     "output_type": "execute_result"
    }
   ],
   "source": [
    "magnitude(1)"
   ]
  },
  {
   "cell_type": "markdown",
   "metadata": {},
   "source": [
    "## Exercise 04.3\n",
    "\n",
    "Given the coordinates of teh vertices of triangle ($x_0$, $y_0$), ($x_1$, $y_1$) and ($x_2$, $y_2$), the area $A$ of a triangle is given by :\n",
    "\n",
    "$$\n",
    "A = \\left| \\frac{x_0(y_1  - y_2) + x_1(y_2 - y_0) + x_2(y_0 - y_1)}{2} \\right|\n",
    "$$\n",
    "\n",
    "Write a function that computes the area of a triangle given the coordinates of the vertices. Test the output of your function against some solutions."
   ]
  },
  {
   "cell_type": "code",
   "execution_count": 12,
   "metadata": {
    "collapsed": true
   },
   "outputs": [],
   "source": [
    "def areaT(v1, v2, v3):\n",
    "    area = abs(((v1[0] *(v2[1] - v3[1])) + (v2[0] * (v3[1] - v1[1])) + (v3[0] * (v1[1] - v2[1]))) / 2)\n",
    "    return area"
   ]
  },
  {
   "cell_type": "code",
   "execution_count": 13,
   "metadata": {
    "collapsed": true
   },
   "outputs": [],
   "source": [
    "v1 = (0,0)\n",
    "v2 = (3,0)\n",
    "v3 = (3,3)"
   ]
  },
  {
   "cell_type": "code",
   "execution_count": 14,
   "metadata": {},
   "outputs": [
    {
     "data": {
      "text/plain": [
       "4.5"
      ]
     },
     "execution_count": 14,
     "metadata": {},
     "output_type": "execute_result"
    }
   ],
   "source": [
    "areaT(v1, v2, v3)"
   ]
  },
  {
   "cell_type": "markdown",
   "metadata": {},
   "source": [
    "### Exercise 04.4\n",
    "\n",
    "The factorial of a non-negative integer $n$ $(n!)$ is expressed recursively by:\n",
    "\n",
    "$$\n",
    "n! = \n",
    "\\begin{cases}\n",
    "1 & n = 0 \\\\\n",
    "(n - 1)! \\,n & n > 0\n",
    "\\end{cases}\n",
    "$$\n",
    "\n",
    "Using recursion, program a function for computing the factorial. Test your funciton againtst the `math.factorial` function."
   ]
  },
  {
   "cell_type": "code",
   "execution_count": 15,
   "metadata": {
    "collapsed": true
   },
   "outputs": [],
   "source": [
    "import math"
   ]
  },
  {
   "cell_type": "code",
   "execution_count": 16,
   "metadata": {
    "collapsed": true
   },
   "outputs": [],
   "source": [
    "# Not recursive\n",
    "def factorial(n):\n",
    "    if n < 0:\n",
    "        return \"Undefined\"\n",
    "    elif n == 0:\n",
    "        return 1\n",
    "    else:\n",
    "        product = 1\n",
    "        for i in range(1, n):\n",
    "            product *= n\n",
    "            n -= 1\n",
    "        return product"
   ]
  },
  {
   "cell_type": "code",
   "execution_count": 17,
   "metadata": {},
   "outputs": [
    {
     "data": {
      "text/plain": [
       "1"
      ]
     },
     "execution_count": 17,
     "metadata": {},
     "output_type": "execute_result"
    }
   ],
   "source": [
    "factorial(1)"
   ]
  },
  {
   "cell_type": "code",
   "execution_count": 18,
   "metadata": {},
   "outputs": [
    {
     "data": {
      "text/plain": [
       "120"
      ]
     },
     "execution_count": 18,
     "metadata": {},
     "output_type": "execute_result"
    }
   ],
   "source": [
    "factorial(5)"
   ]
  },
  {
   "cell_type": "code",
   "execution_count": 19,
   "metadata": {},
   "outputs": [
    {
     "data": {
      "text/plain": [
       "120"
      ]
     },
     "execution_count": 19,
     "metadata": {},
     "output_type": "execute_result"
    }
   ],
   "source": [
    "math.factorial(5)"
   ]
  },
  {
   "cell_type": "code",
   "execution_count": 20,
   "metadata": {},
   "outputs": [
    {
     "data": {
      "text/plain": [
       "24"
      ]
     },
     "execution_count": 20,
     "metadata": {},
     "output_type": "execute_result"
    }
   ],
   "source": [
    "math.factorial(4)"
   ]
  },
  {
   "cell_type": "code",
   "execution_count": 21,
   "metadata": {},
   "outputs": [
    {
     "data": {
      "text/plain": [
       "24"
      ]
     },
     "execution_count": 21,
     "metadata": {},
     "output_type": "execute_result"
    }
   ],
   "source": [
    "factorial(4)"
   ]
  },
  {
   "cell_type": "code",
   "execution_count": 22,
   "metadata": {
    "collapsed": true
   },
   "outputs": [],
   "source": [
    "# Using recursion\n",
    "def factorial_r(n):\n",
    "    if n < 0:\n",
    "        return \"Undefined\"\n",
    "    elif n == 0:\n",
    "        return 1\n",
    "    else:\n",
    "        return factorial_r(n-1) * n"
   ]
  },
  {
   "cell_type": "code",
   "execution_count": 23,
   "metadata": {},
   "outputs": [
    {
     "data": {
      "text/plain": [
       "120"
      ]
     },
     "execution_count": 23,
     "metadata": {},
     "output_type": "execute_result"
    }
   ],
   "source": [
    "factorial_r(5)"
   ]
  },
  {
   "cell_type": "code",
   "execution_count": 24,
   "metadata": {},
   "outputs": [
    {
     "data": {
      "text/plain": [
       "24"
      ]
     },
     "execution_count": 24,
     "metadata": {},
     "output_type": "execute_result"
    }
   ],
   "source": [
    "factorial_r(4)"
   ]
  },
  {
   "cell_type": "markdown",
   "metadata": {},
   "source": [
    "## Exercise 04.5\n",
    "\n",
    "Restructure your program from the bisection exercise in Activity 02 to \n",
    "\n",
    "- use a Python function to evaluate the mathematical function $f$ that we want to find the root of\n",
    "- encapsulate the bisection algorithm inside a Python function, which takes as arguemnts:\n",
    "    - the fuction we want to find the roots of,\n",
    "    - the points $x_0$ and $x_1$ between wchihc we want to search for a root,\n",
    "    - the tolerance for exiting the bisection algorithm (exit when $|f(x)| < \\text{tol}$)\n",
    "    - maximum number of iterations (the algorithm should exit once this limit is reached)\n",
    "    \n",
    "For the first step, us a function for evaluating $f$, e.g.:\n",
    "\n",
    "    def f(x):\n",
    "        # Put bod of the funciton f(x) here, and return the function value\n",
    "        \n",
    "For the second step, encapsulate the bisection algorithm in a function:\n",
    "\n",
    "    def compute_root(f, x0, x1, tol, max_it):\n",
    "        # Implement biseciotn algo here, and return when tolerance is satisfied or\n",
    "        # number of iterations exceeds max_it\n",
    "        \n",
    "        # Return the approximate root, value of f(x) and the nubmer of iterations \n",
    "        return x, f, num_it\n",
    "        \n",
    "    # Compute approximate root of the function f\n",
    "    x, f_x num_it = compute_root(f, x0=3, x1=6, tol=1.-e-6, max_it=1000)\n",
    "    \n",
    "Try testing your program for a different function. A quadratic function, whose roots you can analytically calculate would be a good test case."
   ]
  },
  {
   "cell_type": "code",
   "execution_count": 25,
   "metadata": {
    "collapsed": true
   },
   "outputs": [],
   "source": [
    "def f(x):\n",
    "    \"\"\"Polynomial function that we want to find root of.\"\"\"\n",
    "    return x**3 - (6 * x**2) + (4 * x) + 12"
   ]
  },
  {
   "cell_type": "code",
   "execution_count": 28,
   "metadata": {
    "collapsed": true
   },
   "outputs": [],
   "source": [
    "def compute_root(f, x0, x1, tol, max_it):\n",
    "    \"\"\"\n",
    "    Performs the bisection method to find the roots of a function f. \n",
    "    x0 and x1 are the points between which we want to search for a root.\n",
    "    tol is the tolerance for exiting the bisection algorithm (exit when abs(f(x)) < tol)\n",
    "    max_it is the maximum number of iterations (the algorithm should exit once this limit is reached)\n",
    "    \"\"\"\n",
    "    \n",
    "    for i in range(1, max_it):\n",
    "        xmid = (x0 + x1) / 2\n",
    "        fx0 = f(x0)\n",
    "        fxmid = f(xmid)\n",
    "        \n",
    "        if abs(fxmid) < tol:\n",
    "            break\n",
    "        \n",
    "        if fx0 * fxmid < 0:\n",
    "            x1 = xmid\n",
    "        else:\n",
    "            x0 = xmid\n",
    "            \n",
    "    return xmid, f, i "
   ]
  },
  {
   "cell_type": "code",
   "execution_count": 29,
   "metadata": {},
   "outputs": [
    {
     "data": {
      "text/plain": [
       "(4.534070134162903, <function __main__.f>, 23)"
      ]
     },
     "execution_count": 29,
     "metadata": {},
     "output_type": "execute_result"
    }
   ],
   "source": [
    "compute_root(f, x0=3, x1=6, tol=1.0e-6, max_it=1000)"
   ]
  },
  {
   "cell_type": "markdown",
   "metadata": {},
   "source": [
    "### Optional extension\n",
    "\n",
    "Use recursion to write a `compute_root` function that does not requre a `for` loop or `while` loop."
   ]
  },
  {
   "cell_type": "code",
   "execution_count": 36,
   "metadata": {
    "collapsed": true
   },
   "outputs": [],
   "source": [
    "def compute_root(f, x0, x1, tol, max_it):\n",
    "    \n",
    "    xmid = (x0 + x1) / 2\n",
    "    fx0 = f(x0)\n",
    "    fxmid = f(xmid)\n",
    "    \n",
    "    if fx0 * fxmid < 0:\n",
    "        x1 = xmid\n",
    "    else:\n",
    "        x0 = xmid\n",
    "    \n",
    "    if abs(fxmid) < tol:\n",
    "        return xmid\n",
    "    else:\n",
    "        compute_root(f, x0, x1, tol, max_it)\n",
    "        \n",
    "    return xmid"
   ]
  },
  {
   "cell_type": "code",
   "execution_count": 37,
   "metadata": {},
   "outputs": [
    {
     "data": {
      "text/plain": [
       "4.5"
      ]
     },
     "execution_count": 37,
     "metadata": {},
     "output_type": "execute_result"
    }
   ],
   "source": [
    "compute_root(f, x0=3, x1=6, tol=1.0e-6, max_it=1000)"
   ]
  },
  {
   "cell_type": "code",
   "execution_count": null,
   "metadata": {
    "collapsed": true
   },
   "outputs": [],
   "source": []
  }
 ],
 "metadata": {
  "anaconda-cloud": {},
  "kernelspec": {
   "display_name": "Python [conda env:py36]",
   "language": "python",
   "name": "conda-env-py36-py"
  },
  "language_info": {
   "codemirror_mode": {
    "name": "ipython",
    "version": 3
   },
   "file_extension": ".py",
   "mimetype": "text/x-python",
   "name": "python",
   "nbconvert_exporter": "python",
   "pygments_lexer": "ipython3",
   "version": "3.6.0"
  }
 },
 "nbformat": 4,
 "nbformat_minor": 1
}
