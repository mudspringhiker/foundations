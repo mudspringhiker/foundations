{
 "cells": [
  {
   "cell_type": "markdown",
   "metadata": {},
   "source": [
    "Two vectors of length 4:"
   ]
  },
  {
   "cell_type": "code",
   "execution_count": 1,
   "metadata": {},
   "outputs": [
    {
     "name": "stdout",
     "output_type": "stream",
     "text": [
      "154.45000000000002\n"
     ]
    }
   ],
   "source": [
    "x = [1.0, 3.5, 7.2, 8.9]\n",
    "y = [-1.0, 27.1, 1.0, 6]\n",
    "\n",
    "dot_product = 0.0\n",
    "for i in range(len(x)):\n",
    "    dot_product += x[i] * y[i]\n",
    "    \n",
    "print(dot_product)"
   ]
  },
  {
   "cell_type": "markdown",
   "metadata": {},
   "source": [
    "### Exercise 06.1\n",
    "\n",
    "The exercise in Activity 04 that involved computing the area of a triangle involved a function wth six arguments($x$ and $y$ components of each vertex). With size arguments, the likelihood of a user passing argumetns int he wrong order is high.\n",
    "\n",
    "Use an appropriate data structure to develop a new version of the function with a simpler interface (the interface is the arguments that are passed to the function). Add appropriate checkds inside your function to vaidate the input data.\n",
    "\n",
    "Given the coordinates of the vertices of a triangle, $(x_0, y_0)$, $(x_1, y_1)$ and $(x_2, y_2)$, the area $A$ of a triangle is given by:\n",
    "\n",
    "$$\n",
    "A = \\left| \\frac{x_0(y_1  - y_2) + x_1(y_2 - y_0) + x_2(y_0 - y_1)}{2} \\right|\n",
    "$$\n",
    "\n",
    "Write a function that computes the area of a triangle given the coordinates of the vertices.\n",
    "Test the output of your function against some known solutions."
   ]
  },
  {
   "cell_type": "code",
   "execution_count": 2,
   "metadata": {
    "collapsed": true
   },
   "outputs": [],
   "source": [
    "triangle = [(0, 0), (3, 0), (3, 3)]"
   ]
  },
  {
   "cell_type": "code",
   "execution_count": 3,
   "metadata": {
    "collapsed": true
   },
   "outputs": [],
   "source": [
    "def area(triangle):\n",
    "    v1, v2, v3 = (i for i in triangle)\n",
    "    return abs(((v1[0] *(v2[1] - v3[1])) + (v2[0] * (v3[1] - v1[1])) + (v3[0] * (v1[1] - v2[1]))) / 2)"
   ]
  },
  {
   "cell_type": "code",
   "execution_count": 4,
   "metadata": {},
   "outputs": [
    {
     "data": {
      "text/plain": [
       "4.5"
      ]
     },
     "execution_count": 4,
     "metadata": {},
     "output_type": "execute_result"
    }
   ],
   "source": [
    "area(triangle)"
   ]
  },
  {
   "cell_type": "markdown",
   "metadata": {},
   "source": [
    "### Exercise 06.2\n",
    "\n",
    "For a simple (non-interseting) polygon with $n$ vertices, $(x_0, y_0)$, $(x_1, y_1)$, . . , $(x_{n-1}, y_{n-1})$, the area $A$ is given by\n",
    "\n",
    "$$\n",
    "A = \\left| \\frac{1}{2} \\sum_{i=0}^{n-1} \\left(x_{i} y _{i+1} - x_{i+1} y_{i} \\right) \\right|\n",
    "$$\n",
    "\n",
    "and where $(x_n, y_n) = (x_0, y_0)$. The vertices should be ordered as you move around the polygon.\n",
    "\n",
    "Write a function that computes the area of a simple polygon with an arbitrary number of vertices. Test your function for some simple shapes. Pay careful attention to the range of any loops."
   ]
  },
  {
   "cell_type": "code",
   "execution_count": 30,
   "metadata": {
    "collapsed": true
   },
   "outputs": [],
   "source": [
    "def area_polygon(polygon):\n",
    "    area = 0.0\n",
    "    for vertex in range(len(polygon) - 1):\n",
    "        area += polygon[vertex][0] * polygon[vertex + 1][1] - polygon[vertex + 1][0] * polygon[vertex][1]\n",
    "    area = abs(area / 2)\n",
    "    return area"
   ]
  },
  {
   "cell_type": "code",
   "execution_count": 31,
   "metadata": {
    "collapsed": true
   },
   "outputs": [],
   "source": [
    "triangle = [(0, 0), (3, 0), (3, 3), (0, 0)]"
   ]
  },
  {
   "cell_type": "code",
   "execution_count": 32,
   "metadata": {},
   "outputs": [
    {
     "data": {
      "text/plain": [
       "[(0, 0), (3, 0), (3, 3)]"
      ]
     },
     "execution_count": 32,
     "metadata": {},
     "output_type": "execute_result"
    }
   ],
   "source": [
    "triangle[0:-1]"
   ]
  },
  {
   "cell_type": "code",
   "execution_count": 33,
   "metadata": {},
   "outputs": [
    {
     "data": {
      "text/plain": [
       "4.5"
      ]
     },
     "execution_count": 33,
     "metadata": {},
     "output_type": "execute_result"
    }
   ],
   "source": [
    "area_polygon(triangle)"
   ]
  },
  {
   "cell_type": "markdown",
   "metadata": {},
   "source": [
    "### Exercise 06.3\n",
    "\n",
    "Write a function that uses list indexing to add two vectors of arbitrary length, and returns the new vector. Include a check that the vector sizes match, and print a warning message if there is a size mismatch. The more error information you provide, the easier it would be for someone usingyour function to debug their code.\n",
    "\n",
    "Add some tests of your code.\n",
    "\n",
    "*Hint*: You can create a list of zeros of lenght `n` by\n",
    "\n",
    "`z = [0]*n`\n",
    "\n",
    "*Optional(advanced)*: Try writing a one-line versin of this operation using list comprehension and the built-in function `zip`."
   ]
  },
  {
   "cell_type": "code",
   "execution_count": 36,
   "metadata": {
    "collapsed": true
   },
   "outputs": [],
   "source": [
    "def sum_vector(vector1, vector2):\n",
    "    \"\"\"Adds two vectors of arbitrary length\"\"\"\n",
    "    if len(vector1) != len(vector2):\n",
    "        return \"Cannot add vectors of unequal length.\"\n",
    "    else:\n",
    "        new_vector = []\n",
    "        for i, component in enumerate(vector1):\n",
    "            new_vector.append(component + vector2[i])\n",
    "        return new_vector"
   ]
  },
  {
   "cell_type": "code",
   "execution_count": 37,
   "metadata": {
    "collapsed": true
   },
   "outputs": [],
   "source": [
    "v1 = [3, 4, 6, 7, 8]\n",
    "v2 = [9, 45, 5, 3, 2]"
   ]
  },
  {
   "cell_type": "code",
   "execution_count": 38,
   "metadata": {},
   "outputs": [
    {
     "data": {
      "text/plain": [
       "[12, 49, 11, 10, 10]"
      ]
     },
     "execution_count": 38,
     "metadata": {},
     "output_type": "execute_result"
    }
   ],
   "source": [
    "sum_vector(v1, v2)"
   ]
  },
  {
   "cell_type": "code",
   "execution_count": 44,
   "metadata": {
    "collapsed": true
   },
   "outputs": [],
   "source": [
    "def sum_vector(v1, v2):\n",
    "    if len(v1) == len(v2):\n",
    "        return [sum(x) for x in zip(v1, v2)]\n",
    "    else:\n",
    "        return \"Can't add vectors of unequal length.\""
   ]
  },
  {
   "cell_type": "code",
   "execution_count": 47,
   "metadata": {},
   "outputs": [
    {
     "data": {
      "text/plain": [
       "[12, 49, 11, 10, 10]"
      ]
     },
     "execution_count": 47,
     "metadata": {},
     "output_type": "execute_result"
    }
   ],
   "source": [
    "sum_vector(v1, v2)"
   ]
  },
  {
   "cell_type": "markdown",
   "metadata": {},
   "source": [
    "### Exercise 06.3\n",
    "\n",
    "Create a dictionary that maps college names (the key) to college abbreviations for at least 5 colleges (you can find abbreviatons at ...). From the dictionary, produce and print:\n",
    "\n",
    "1. A dictionary from college abbreviation to name; and\n",
    "2. A list of college abbreviations sorted into alphabetical order\n",
    "\n",
    "*Optional extension*: Create a dictionary that maps college names (the key) to dictionaries of:\n",
    "\n",
    "- College abbreviation\n",
    "- Year of foundation\n",
    "- Total number of students\n",
    "\n",
    "For at least 5 colleges.\n",
    "Using this dictionary,\n",
    "\n",
    "1. Find the college with the greatest number of students and print the abbreviation; and\n",
    "2. Find the oldest college, and print the nubmer of students and the abbreviation for this college.\n"
   ]
  },
  {
   "cell_type": "code",
   "execution_count": 49,
   "metadata": {},
   "outputs": [],
   "source": [
    "UC = {\n",
    "    'Churchill': \"CHU\",\n",
    "    'Clare': 'CL', \n",
    "    'Corpus Christi': 'CC',\n",
    "    'Downing': 'DOW',\n",
    "    'Darwin': 'DAR',\n",
    "    'Fitzwilliam': 'F'\n",
    "    }"
   ]
  },
  {
   "cell_type": "code",
   "execution_count": 50,
   "metadata": {
    "collapsed": true
   },
   "outputs": [],
   "source": [
    "UC2 = {}\n",
    "for key, value in UC.items():\n",
    "    UC2[value] = key"
   ]
  },
  {
   "cell_type": "code",
   "execution_count": 51,
   "metadata": {},
   "outputs": [
    {
     "data": {
      "text/plain": [
       "{'CC': 'Corpus Christi',\n",
       " 'CHU': 'Churchill',\n",
       " 'CL': 'Clare',\n",
       " 'DAR': 'Darwin',\n",
       " 'DOW': 'Downing',\n",
       " 'F': 'Fitzwilliam'}"
      ]
     },
     "execution_count": 51,
     "metadata": {},
     "output_type": "execute_result"
    }
   ],
   "source": [
    "UC2"
   ]
  },
  {
   "cell_type": "code",
   "execution_count": 53,
   "metadata": {},
   "outputs": [
    {
     "data": {
      "text/plain": [
       "['CC', 'CHU', 'CL', 'DAR', 'DOW', 'F']"
      ]
     },
     "execution_count": 53,
     "metadata": {},
     "output_type": "execute_result"
    }
   ],
   "source": [
    "college_abbvs = sorted(UC.values())\n",
    "college_abbvs"
   ]
  },
  {
   "cell_type": "code",
   "execution_count": 54,
   "metadata": {
    "collapsed": true
   },
   "outputs": [],
   "source": [
    "UC = {\n",
    "    'Churchill': [\"CHU\", 1960, 541],\n",
    "    'Clare': ['CL', 1326, 655], \n",
    "    'Corpus Christi': ['CC', 1352, 467],\n",
    "    'Downing': ['DOW', 1800, 623],\n",
    "    'Darwin': ['DAR', 1964, 674],\n",
    "    'Fitzwilliam': ['F', 1869, 688]\n",
    "    }"
   ]
  },
  {
   "cell_type": "code",
   "execution_count": 65,
   "metadata": {},
   "outputs": [
    {
     "data": {
      "text/plain": [
       "('F', 688)"
      ]
     },
     "execution_count": 65,
     "metadata": {},
     "output_type": "execute_result"
    }
   ],
   "source": [
    "max([(x[0], x[2]) for x in UC.values()])"
   ]
  },
  {
   "cell_type": "code",
   "execution_count": 70,
   "metadata": {},
   "outputs": [
    {
     "data": {
      "text/plain": [
       "1326"
      ]
     },
     "execution_count": 70,
     "metadata": {},
     "output_type": "execute_result"
    }
   ],
   "source": [
    "oldest = min([x[1] for x in UC.values()])\n",
    "oldest"
   ]
  },
  {
   "cell_type": "code",
   "execution_count": 75,
   "metadata": {},
   "outputs": [],
   "source": [
    "oldest_college = [(x[0], x[2]) for x in UC.values() if x[1] == oldest]"
   ]
  },
  {
   "cell_type": "code",
   "execution_count": 77,
   "metadata": {},
   "outputs": [
    {
     "data": {
      "text/plain": [
       "'CL'"
      ]
     },
     "execution_count": 77,
     "metadata": {},
     "output_type": "execute_result"
    }
   ],
   "source": [
    "oldest_college[0][0]"
   ]
  },
  {
   "cell_type": "code",
   "execution_count": 78,
   "metadata": {},
   "outputs": [
    {
     "data": {
      "text/plain": [
       "655"
      ]
     },
     "execution_count": 78,
     "metadata": {},
     "output_type": "execute_result"
    }
   ],
   "source": [
    "oldest_college[0][1]"
   ]
  },
  {
   "cell_type": "code",
   "execution_count": null,
   "metadata": {
    "collapsed": true
   },
   "outputs": [],
   "source": []
  }
 ],
 "metadata": {
  "kernelspec": {
   "display_name": "Python [conda env:py36]",
   "language": "python",
   "name": "conda-env-py36-py"
  },
  "language_info": {
   "codemirror_mode": {
    "name": "ipython",
    "version": 3
   },
   "file_extension": ".py",
   "mimetype": "text/x-python",
   "name": "python",
   "nbconvert_exporter": "python",
   "pygments_lexer": "ipython3",
   "version": "3.6.0"
  }
 },
 "nbformat": 4,
 "nbformat_minor": 1
}
