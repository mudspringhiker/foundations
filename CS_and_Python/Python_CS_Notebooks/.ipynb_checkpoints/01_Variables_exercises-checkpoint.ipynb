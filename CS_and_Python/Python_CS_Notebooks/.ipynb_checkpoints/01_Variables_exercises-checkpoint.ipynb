{
 "cells": [
  {
   "cell_type": "markdown",
   "metadata": {},
   "source": [
    "## Exercise 01.1\n",
    "\n",
    "Degrees Farenheit ($T_F$) are converted to degrees Celsium ($T_C$) using the formula:\n",
    "\n",
    "$$\n",
    "T_c = 5(T_f - 32)/9\n",
    "$$\n",
    "\n",
    "Write a program to convert 78 $^{o}F$ to $^{o}C$ and print the result. Write your program such that you can easily change the temprature in Farenheit that you are converting from."
   ]
  },
  {
   "cell_type": "code",
   "execution_count": 1,
   "metadata": {},
   "outputs": [
    {
     "data": {
      "text/plain": [
       "25.555555555555557"
      ]
     },
     "execution_count": 1,
     "metadata": {},
     "output_type": "execute_result"
    }
   ],
   "source": [
    "farenheit = 78\n",
    "celsius = 5/9 * (farenheit - 32)\n",
    "celsius"
   ]
  },
  {
   "cell_type": "markdown",
   "metadata": {},
   "source": [
    "## Exercise 01.2\n",
    "\n",
    "Interest on a bank loan is charged at fixed rate above the Banck of England 'official Bank Rate'.\n",
    "\n",
    "1. Write a program that computes the interest payable, using the following variables in your program:\n",
    "\n",
    "    1. Loan principal (amount borrowed)\n",
    "    1. Official Bank Rate (percentage, expressed per annum)\n",
    "    1. Rate over the official Bank Rate (percentage, expressed per annum)\n",
    "    1. Time in days\n",
    "\n",
    "    Test your program with a loan principal of Â£150,000, bank rate of 0.25%, rate over the \n",
    "    bank rate of 1.49% and a period of 28 days.\n",
    "\n",
    "2. Modify your program such that it prompts the user to interactively enter the principal and the number of days.\n",
    "\n",
    "*Hint*: To prompt a user to input numerical data, use the command:\n",
    "```python\n",
    "# Get input from user\n",
    "number = float(input('How many seconds in one minute? '))\n",
    "```\n",
    "Do not forget to use `float`. \n"
   ]
  },
  {
   "cell_type": "code",
   "execution_count": 2,
   "metadata": {
    "collapsed": true
   },
   "outputs": [],
   "source": [
    "principal = 150000\n",
    "bank_rate = 0.0025\n",
    "rate_over_bank_rate = 0.0149\n",
    "days = 28"
   ]
  },
  {
   "cell_type": "code",
   "execution_count": 3,
   "metadata": {
    "collapsed": true
   },
   "outputs": [],
   "source": [
    "rate = bank_rate + rate_over_bank_rate\n",
    "interest = principal * rate  * days / 365"
   ]
  },
  {
   "cell_type": "code",
   "execution_count": 4,
   "metadata": {},
   "outputs": [
    {
     "data": {
      "text/plain": [
       "200.21917808219177"
      ]
     },
     "execution_count": 4,
     "metadata": {},
     "output_type": "execute_result"
    }
   ],
   "source": [
    "interest"
   ]
  },
  {
   "cell_type": "code",
   "execution_count": 6,
   "metadata": {},
   "outputs": [
    {
     "name": "stdout",
     "output_type": "stream",
     "text": [
      "Enter you loan principal amount: 150000\n",
      "How many days? 28\n",
      "Your interest payable is 200.21917808219177.\n"
     ]
    }
   ],
   "source": [
    "principal = float(input(\"Enter you loan principal amount: \"))\n",
    "days = input(\"How many days? \")\n",
    "print(\"Your interest payable is {}.\".format(interest))"
   ]
  }
 ],
 "metadata": {
  "anaconda-cloud": {},
  "kernelspec": {
   "display_name": "Python [conda env:py36]",
   "language": "python",
   "name": "conda-env-py36-py"
  },
  "language_info": {
   "codemirror_mode": {
    "name": "ipython",
    "version": 3
   },
   "file_extension": ".py",
   "mimetype": "text/x-python",
   "name": "python",
   "nbconvert_exporter": "python",
   "pygments_lexer": "ipython3",
   "version": "3.6.0"
  }
 },
 "nbformat": 4,
 "nbformat_minor": 1
}
