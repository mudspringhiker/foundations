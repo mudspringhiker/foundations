{
 "cells": [
  {
   "cell_type": "markdown",
   "metadata": {},
   "source": [
    "## Exercise 02.1\n",
    "\n",
    "\n",
    "Consider the following assessment criteria which map a score out of 100 to an assessment grade:\n",
    "\n",
    "| Grade               | Raw score (/100) |\n",
    "|---------------|-----------------|\n",
    "| Excellent     |  $\\ge 82$  |\n",
    "| Very good   |   $\\ge 76.5$ and $< 82$ |\n",
    "| Good | $\\ge 66$ and $< 76.5$ |\n",
    "| Need improvement | $\\ge 45$ and $< 66$ |\n",
    "| Did you try? | $\\ge < 45$ |\n",
    "\n",
    "Write a program that asks for the imput score and prints the appropriate grade. Print an error message if the input score is greater than 100 or less than zero.\n",
    "\n",
    "Recall that \n",
    "```python\n",
    "# Get input from user\n",
    "number = float(input('How many seconds in one minute? '))\n",
    "```\n",
    "can be used for interactive input."
   ]
  },
  {
   "cell_type": "code",
   "execution_count": 1,
   "metadata": {},
   "outputs": [
    {
     "name": "stdout",
     "output_type": "stream",
     "text": [
      "What is your score? 67\n",
      "Good\n"
     ]
    }
   ],
   "source": [
    "score = float(input(\"What is your score? \"))\n",
    "if score > 100:\n",
    "    print(\"You entered higher than 100.\")\n",
    "elif score >= 82:\n",
    "    print(\"Excellent\")\n",
    "elif score >= 76.5:\n",
    "    print(\"Very good\")\n",
    "elif score >= 66:\n",
    "    print(\"Good\")\n",
    "elif score >= 45:\n",
    "    print(\"Need improvement\")\n",
    "else:\n",
    "    print(\"Did you try?\")"
   ]
  },
  {
   "cell_type": "markdown",
   "metadata": {},
   "source": [
    "## Exercise 02.2\n"
   ]
  },
  {
   "cell_type": "markdown",
   "metadata": {},
   "source": [
    "Use the bisection method to find an approximate root $x_{r}$ using 15 iterations \n",
    "   (use a `for` loop)."
   ]
  },
  {
   "cell_type": "code",
   "execution_count": 2,
   "metadata": {
    "collapsed": true
   },
   "outputs": [],
   "source": [
    "x_0 = 3\n",
    "x_1 = 6\n",
    "iterations = 15"
   ]
  },
  {
   "cell_type": "code",
   "execution_count": 3,
   "metadata": {},
   "outputs": [
    {
     "name": "stdout",
     "output_type": "stream",
     "text": [
      "0: x_mid, 4.5\n",
      "1: x_mid, 5.25\n",
      "2: x_mid, 4.875\n",
      "3: x_mid, 4.6875\n",
      "4: x_mid, 4.59375\n",
      "5: x_mid, 4.546875\n",
      "6: x_mid, 4.5234375\n",
      "7: x_mid, 4.53515625\n",
      "8: x_mid, 4.529296875\n",
      "9: x_mid, 4.5322265625\n",
      "10: x_mid, 4.53369140625\n",
      "11: x_mid, 4.534423828125\n",
      "12: x_mid, 4.5340576171875\n",
      "13: x_mid, 4.53424072265625\n",
      "14: x_mid, 4.534149169921875\n"
     ]
    }
   ],
   "source": [
    "for i in range(iterations):\n",
    "    x_mid = (x_0 + x_1) / 2\n",
    "    fx_0 = x_0 ** 3 - (6 * x_0 ** 2) + x_0 * 4 + 12\n",
    "    fx_mid = x_mid ** 3 - (6 * x_mid ** 2) + x_mid * 4 + 12\n",
    "    if fx_0 * fx_mid < 0:\n",
    "        x_1 = x_mid\n",
    "    else:\n",
    "        x_0 = x_mid\n",
    "    print(\"{}: x_mid, {}\".format(i, x_mid))"
   ]
  },
  {
   "cell_type": "markdown",
   "metadata": {},
   "source": [
    "Use the bisection method to find an approximate root $x_{r}$ such that \n",
    "   $\\left| f(x_{r}) \\right| < 1 \\times 10^{-6}$ and report the number of iterations \n",
    "   required (use a `while` loop)."
   ]
  },
  {
   "cell_type": "code",
   "execution_count": 7,
   "metadata": {
    "collapsed": true
   },
   "outputs": [],
   "source": [
    "x_0 = 3\n",
    "x_1 = 6"
   ]
  },
  {
   "cell_type": "code",
   "execution_count": 8,
   "metadata": {
    "collapsed": true
   },
   "outputs": [],
   "source": [
    "n = 0\n",
    "x_mid = (x_0 + x_1) / 2\n",
    "fx_mid = x_mid ** 3 - (6 * x_mid ** 2) + x_mid * 4 + 12"
   ]
  },
  {
   "cell_type": "code",
   "execution_count": 9,
   "metadata": {},
   "outputs": [
    {
     "name": "stdout",
     "output_type": "stream",
     "text": [
      "1: x_mid, 4.5\n",
      "2: x_mid, 5.25\n",
      "3: x_mid, 4.875\n",
      "4: x_mid, 4.6875\n",
      "5: x_mid, 4.59375\n",
      "6: x_mid, 4.546875\n",
      "7: x_mid, 4.5234375\n",
      "8: x_mid, 4.53515625\n",
      "9: x_mid, 4.529296875\n",
      "10: x_mid, 4.5322265625\n",
      "11: x_mid, 4.53369140625\n",
      "12: x_mid, 4.534423828125\n",
      "13: x_mid, 4.5340576171875\n",
      "14: x_mid, 4.53424072265625\n",
      "15: x_mid, 4.534149169921875\n",
      "16: x_mid, 4.5341033935546875\n",
      "17: x_mid, 4.534080505371094\n",
      "18: x_mid, 4.534069061279297\n",
      "19: x_mid, 4.534074783325195\n",
      "20: x_mid, 4.534071922302246\n",
      "21: x_mid, 4.5340704917907715\n",
      "22: x_mid, 4.534069776535034\n",
      "23: x_mid, 4.534070134162903\n"
     ]
    }
   ],
   "source": [
    "while abs(fx_mid) > 1.0e-6:\n",
    "    x_mid = (x_0 + x_1) / 2\n",
    "    fx_mid = x_mid ** 3 - (6 * x_mid ** 2) + x_mid * 4 + 12\n",
    "    fx_0 = x_0 ** 3 - (6 * x_0 ** 2) + x_0 * 4 + 12\n",
    "    if fx_0 * fx_mid < 0:\n",
    "        x_1 = x_mid\n",
    "    else:\n",
    "        x_0 = x_mid\n",
    "    n += 1\n",
    "    print(\"{}: x_mid, {}\".format(n, x_mid))"
   ]
  },
  {
   "cell_type": "markdown",
   "metadata": {
    "collapsed": true
   },
   "source": [
    "## Exercies 02.3\n",
    "\n",
    "Using a `for` statement, approximate $\\sin(3\\pi/2)$ using 15 terms in the series exansion and report the absolute error."
   ]
  },
  {
   "cell_type": "code",
   "execution_count": 1,
   "metadata": {
    "collapsed": true
   },
   "outputs": [],
   "source": [
    "import math"
   ]
  },
  {
   "cell_type": "code",
   "execution_count": 2,
   "metadata": {
    "collapsed": true
   },
   "outputs": [],
   "source": [
    "x = 3 * math.pi / 2"
   ]
  },
  {
   "cell_type": "code",
   "execution_count": 3,
   "metadata": {},
   "outputs": [
    {
     "data": {
      "text/plain": [
       "4.71238898038469"
      ]
     },
     "execution_count": 3,
     "metadata": {},
     "output_type": "execute_result"
    }
   ],
   "source": [
    "x"
   ]
  },
  {
   "cell_type": "code",
   "execution_count": 4,
   "metadata": {
    "collapsed": true
   },
   "outputs": [],
   "source": [
    "power_series = 0\n",
    "\n",
    "for n in range(15):\n",
    "    term = -1 ** n * (x **(2 * n + 1)) / math.factorial(2 * n + 1)\n",
    "    power_series += term"
   ]
  },
  {
   "cell_type": "code",
   "execution_count": 5,
   "metadata": {},
   "outputs": [
    {
     "data": {
      "text/plain": [
       "-55.65439759941744"
      ]
     },
     "execution_count": 5,
     "metadata": {},
     "output_type": "execute_result"
    }
   ],
   "source": [
    "power_series"
   ]
  },
  {
   "cell_type": "markdown",
   "metadata": {},
   "source": [
    "Using a `while` statement, compute how many terms in the series are required to approximate $\\sin(3\\pi/2)$ to within $1 \\times 10^{-8}$."
   ]
  },
  {
   "cell_type": "code",
   "execution_count": null,
   "metadata": {
    "collapsed": true
   },
   "outputs": [],
   "source": []
  }
 ],
 "metadata": {
  "anaconda-cloud": {},
  "kernelspec": {
   "display_name": "Python [conda env:py36]",
   "language": "python",
   "name": "conda-env-py36-py"
  },
  "language_info": {
   "codemirror_mode": {
    "name": "ipython",
    "version": 3
   },
   "file_extension": ".py",
   "mimetype": "text/x-python",
   "name": "python",
   "nbconvert_exporter": "python",
   "pygments_lexer": "ipython3",
   "version": "3.6.0"
  }
 },
 "nbformat": 4,
 "nbformat_minor": 1
}
