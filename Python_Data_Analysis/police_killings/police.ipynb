{
 "cells": [
  {
   "cell_type": "markdown",
   "metadata": {},
   "source": [
    "## Police Killings\n",
    "\n",
    "The Guardian launched “The Counted,” an impressive interactive database of Americans killed by police since the start of the year. It started in 2015, but you can check the recent stats for 2016. We will explore the data by race, income and state."
   ]
  },
  {
   "cell_type": "markdown",
   "metadata": {},
   "source": [
    "### Assignment\n",
    "\n",
    "- Import the data and examine the head and columns\n",
    "- Get the total counts for each racial grouping\n",
    "- Find the relative % for each racial grouping\n",
    "- How do the killings compare with the overall US breakdown of population by race?"
   ]
  },
  {
   "cell_type": "code",
   "execution_count": 1,
   "metadata": {
    "collapsed": true
   },
   "outputs": [],
   "source": [
    "import pandas as pd\n",
    "import matplotlib.pyplot as plt\n",
    "%matplotlib inline"
   ]
  },
  {
   "cell_type": "code",
   "execution_count": 2,
   "metadata": {},
   "outputs": [],
   "source": [
    "data = pd.read_csv('police_killings.csv', encoding='ISO-8859-1')"
   ]
  },
  {
   "cell_type": "code",
   "execution_count": 3,
   "metadata": {},
   "outputs": [
    {
     "name": "stdout",
     "output_type": "stream",
     "text": [
      "<class 'pandas.core.frame.DataFrame'>\n",
      "RangeIndex: 467 entries, 0 to 466\n",
      "Data columns (total 34 columns):\n",
      "name                    467 non-null object\n",
      "age                     467 non-null object\n",
      "gender                  467 non-null object\n",
      "raceethnicity           467 non-null object\n",
      "month                   467 non-null object\n",
      "day                     467 non-null int64\n",
      "year                    467 non-null int64\n",
      "streetaddress           463 non-null object\n",
      "city                    467 non-null object\n",
      "state                   467 non-null object\n",
      "latitude                467 non-null float64\n",
      "longitude               467 non-null float64\n",
      "state_fp                467 non-null int64\n",
      "county_fp               467 non-null int64\n",
      "tract_ce                467 non-null int64\n",
      "geo_id                  467 non-null int64\n",
      "county_id               467 non-null int64\n",
      "namelsad                467 non-null object\n",
      "lawenforcementagency    467 non-null object\n",
      "cause                   467 non-null object\n",
      "armed                   467 non-null object\n",
      "pop                     467 non-null int64\n",
      "share_white             467 non-null object\n",
      "share_black             467 non-null object\n",
      "share_hispanic          467 non-null object\n",
      "p_income                467 non-null object\n",
      "h_income                465 non-null float64\n",
      "county_income           467 non-null int64\n",
      "comp_income             465 non-null float64\n",
      "county_bucket           440 non-null float64\n",
      "nat_bucket              465 non-null float64\n",
      "pov                     467 non-null object\n",
      "urate                   465 non-null float64\n",
      "college                 465 non-null float64\n",
      "dtypes: float64(8), int64(9), object(17)\n",
      "memory usage: 124.1+ KB\n"
     ]
    }
   ],
   "source": [
    "data.info()"
   ]
  },
  {
   "cell_type": "code",
   "execution_count": 4,
   "metadata": {},
   "outputs": [
    {
     "data": {
      "text/html": [
       "<div>\n",
       "<table border=\"1\" class=\"dataframe\">\n",
       "  <thead>\n",
       "    <tr style=\"text-align: right;\">\n",
       "      <th></th>\n",
       "      <th>name</th>\n",
       "      <th>age</th>\n",
       "      <th>gender</th>\n",
       "      <th>raceethnicity</th>\n",
       "      <th>month</th>\n",
       "      <th>day</th>\n",
       "      <th>year</th>\n",
       "      <th>streetaddress</th>\n",
       "      <th>city</th>\n",
       "      <th>state</th>\n",
       "      <th>...</th>\n",
       "      <th>share_hispanic</th>\n",
       "      <th>p_income</th>\n",
       "      <th>h_income</th>\n",
       "      <th>county_income</th>\n",
       "      <th>comp_income</th>\n",
       "      <th>county_bucket</th>\n",
       "      <th>nat_bucket</th>\n",
       "      <th>pov</th>\n",
       "      <th>urate</th>\n",
       "      <th>college</th>\n",
       "    </tr>\n",
       "  </thead>\n",
       "  <tbody>\n",
       "    <tr>\n",
       "      <th>0</th>\n",
       "      <td>A'donte Washington</td>\n",
       "      <td>16</td>\n",
       "      <td>Male</td>\n",
       "      <td>Black</td>\n",
       "      <td>February</td>\n",
       "      <td>23</td>\n",
       "      <td>2015</td>\n",
       "      <td>Clearview Ln</td>\n",
       "      <td>Millbrook</td>\n",
       "      <td>AL</td>\n",
       "      <td>...</td>\n",
       "      <td>5.6</td>\n",
       "      <td>28375</td>\n",
       "      <td>51367.0</td>\n",
       "      <td>54766</td>\n",
       "      <td>0.937936</td>\n",
       "      <td>3.0</td>\n",
       "      <td>3.0</td>\n",
       "      <td>14.1</td>\n",
       "      <td>0.097686</td>\n",
       "      <td>0.168510</td>\n",
       "    </tr>\n",
       "    <tr>\n",
       "      <th>1</th>\n",
       "      <td>Aaron Rutledge</td>\n",
       "      <td>27</td>\n",
       "      <td>Male</td>\n",
       "      <td>White</td>\n",
       "      <td>April</td>\n",
       "      <td>2</td>\n",
       "      <td>2015</td>\n",
       "      <td>300 block Iris Park Dr</td>\n",
       "      <td>Pineville</td>\n",
       "      <td>LA</td>\n",
       "      <td>...</td>\n",
       "      <td>0.5</td>\n",
       "      <td>14678</td>\n",
       "      <td>27972.0</td>\n",
       "      <td>40930</td>\n",
       "      <td>0.683411</td>\n",
       "      <td>2.0</td>\n",
       "      <td>1.0</td>\n",
       "      <td>28.8</td>\n",
       "      <td>0.065724</td>\n",
       "      <td>0.111402</td>\n",
       "    </tr>\n",
       "    <tr>\n",
       "      <th>2</th>\n",
       "      <td>Aaron Siler</td>\n",
       "      <td>26</td>\n",
       "      <td>Male</td>\n",
       "      <td>White</td>\n",
       "      <td>March</td>\n",
       "      <td>14</td>\n",
       "      <td>2015</td>\n",
       "      <td>22nd Ave and 56th St</td>\n",
       "      <td>Kenosha</td>\n",
       "      <td>WI</td>\n",
       "      <td>...</td>\n",
       "      <td>16.8</td>\n",
       "      <td>25286</td>\n",
       "      <td>45365.0</td>\n",
       "      <td>54930</td>\n",
       "      <td>0.825869</td>\n",
       "      <td>2.0</td>\n",
       "      <td>3.0</td>\n",
       "      <td>14.6</td>\n",
       "      <td>0.166293</td>\n",
       "      <td>0.147312</td>\n",
       "    </tr>\n",
       "    <tr>\n",
       "      <th>3</th>\n",
       "      <td>Aaron Valdez</td>\n",
       "      <td>25</td>\n",
       "      <td>Male</td>\n",
       "      <td>Hispanic/Latino</td>\n",
       "      <td>March</td>\n",
       "      <td>11</td>\n",
       "      <td>2015</td>\n",
       "      <td>3000 Seminole Ave</td>\n",
       "      <td>South Gate</td>\n",
       "      <td>CA</td>\n",
       "      <td>...</td>\n",
       "      <td>98.8</td>\n",
       "      <td>17194</td>\n",
       "      <td>48295.0</td>\n",
       "      <td>55909</td>\n",
       "      <td>0.863814</td>\n",
       "      <td>3.0</td>\n",
       "      <td>3.0</td>\n",
       "      <td>11.7</td>\n",
       "      <td>0.124827</td>\n",
       "      <td>0.050133</td>\n",
       "    </tr>\n",
       "    <tr>\n",
       "      <th>4</th>\n",
       "      <td>Adam Jovicic</td>\n",
       "      <td>29</td>\n",
       "      <td>Male</td>\n",
       "      <td>White</td>\n",
       "      <td>March</td>\n",
       "      <td>19</td>\n",
       "      <td>2015</td>\n",
       "      <td>364 Hiwood Ave</td>\n",
       "      <td>Munroe Falls</td>\n",
       "      <td>OH</td>\n",
       "      <td>...</td>\n",
       "      <td>1.7</td>\n",
       "      <td>33954</td>\n",
       "      <td>68785.0</td>\n",
       "      <td>49669</td>\n",
       "      <td>1.384868</td>\n",
       "      <td>5.0</td>\n",
       "      <td>4.0</td>\n",
       "      <td>1.9</td>\n",
       "      <td>0.063550</td>\n",
       "      <td>0.403954</td>\n",
       "    </tr>\n",
       "  </tbody>\n",
       "</table>\n",
       "<p>5 rows × 34 columns</p>\n",
       "</div>"
      ],
      "text/plain": [
       "                 name age gender    raceethnicity     month  day  year  \\\n",
       "0  A'donte Washington  16   Male            Black  February   23  2015   \n",
       "1      Aaron Rutledge  27   Male            White     April    2  2015   \n",
       "2         Aaron Siler  26   Male            White     March   14  2015   \n",
       "3        Aaron Valdez  25   Male  Hispanic/Latino     March   11  2015   \n",
       "4        Adam Jovicic  29   Male            White     March   19  2015   \n",
       "\n",
       "            streetaddress          city state    ...     share_hispanic  \\\n",
       "0            Clearview Ln     Millbrook    AL    ...                5.6   \n",
       "1  300 block Iris Park Dr     Pineville    LA    ...                0.5   \n",
       "2    22nd Ave and 56th St       Kenosha    WI    ...               16.8   \n",
       "3       3000 Seminole Ave    South Gate    CA    ...               98.8   \n",
       "4          364 Hiwood Ave  Munroe Falls    OH    ...                1.7   \n",
       "\n",
       "   p_income  h_income  county_income  comp_income  county_bucket  nat_bucket  \\\n",
       "0     28375   51367.0          54766     0.937936            3.0         3.0   \n",
       "1     14678   27972.0          40930     0.683411            2.0         1.0   \n",
       "2     25286   45365.0          54930     0.825869            2.0         3.0   \n",
       "3     17194   48295.0          55909     0.863814            3.0         3.0   \n",
       "4     33954   68785.0          49669     1.384868            5.0         4.0   \n",
       "\n",
       "    pov     urate   college  \n",
       "0  14.1  0.097686  0.168510  \n",
       "1  28.8  0.065724  0.111402  \n",
       "2  14.6  0.166293  0.147312  \n",
       "3  11.7  0.124827  0.050133  \n",
       "4   1.9  0.063550  0.403954  \n",
       "\n",
       "[5 rows x 34 columns]"
      ]
     },
     "execution_count": 4,
     "metadata": {},
     "output_type": "execute_result"
    }
   ],
   "source": [
    "data.head(5)"
   ]
  },
  {
   "cell_type": "code",
   "execution_count": 5,
   "metadata": {
    "collapsed": true
   },
   "outputs": [],
   "source": [
    "data = data.dropna()"
   ]
  },
  {
   "cell_type": "code",
   "execution_count": 6,
   "metadata": {},
   "outputs": [
    {
     "name": "stdout",
     "output_type": "stream",
     "text": [
      "<class 'pandas.core.frame.DataFrame'>\n",
      "Int64Index: 436 entries, 0 to 466\n",
      "Data columns (total 34 columns):\n",
      "name                    436 non-null object\n",
      "age                     436 non-null object\n",
      "gender                  436 non-null object\n",
      "raceethnicity           436 non-null object\n",
      "month                   436 non-null object\n",
      "day                     436 non-null int64\n",
      "year                    436 non-null int64\n",
      "streetaddress           436 non-null object\n",
      "city                    436 non-null object\n",
      "state                   436 non-null object\n",
      "latitude                436 non-null float64\n",
      "longitude               436 non-null float64\n",
      "state_fp                436 non-null int64\n",
      "county_fp               436 non-null int64\n",
      "tract_ce                436 non-null int64\n",
      "geo_id                  436 non-null int64\n",
      "county_id               436 non-null int64\n",
      "namelsad                436 non-null object\n",
      "lawenforcementagency    436 non-null object\n",
      "cause                   436 non-null object\n",
      "armed                   436 non-null object\n",
      "pop                     436 non-null int64\n",
      "share_white             436 non-null object\n",
      "share_black             436 non-null object\n",
      "share_hispanic          436 non-null object\n",
      "p_income                436 non-null object\n",
      "h_income                436 non-null float64\n",
      "county_income           436 non-null int64\n",
      "comp_income             436 non-null float64\n",
      "county_bucket           436 non-null float64\n",
      "nat_bucket              436 non-null float64\n",
      "pov                     436 non-null object\n",
      "urate                   436 non-null float64\n",
      "college                 436 non-null float64\n",
      "dtypes: float64(8), int64(9), object(17)\n",
      "memory usage: 119.2+ KB\n"
     ]
    }
   ],
   "source": [
    "data.info()"
   ]
  },
  {
   "cell_type": "markdown",
   "metadata": {},
   "source": [
    "Get the total counts for each racial grouping:"
   ]
  },
  {
   "cell_type": "code",
   "execution_count": 7,
   "metadata": {},
   "outputs": [
    {
     "data": {
      "text/plain": [
       "6"
      ]
     },
     "execution_count": 7,
     "metadata": {},
     "output_type": "execute_result"
    }
   ],
   "source": [
    "data.raceethnicity.nunique()"
   ]
  },
  {
   "cell_type": "code",
   "execution_count": 8,
   "metadata": {},
   "outputs": [
    {
     "data": {
      "text/plain": [
       "White                     216\n",
       "Black                     127\n",
       "Hispanic/Latino            65\n",
       "Unknown                    14\n",
       "Asian/Pacific Islander     10\n",
       "Native American             4\n",
       "Name: raceethnicity, dtype: int64"
      ]
     },
     "execution_count": 8,
     "metadata": {},
     "output_type": "execute_result"
    }
   ],
   "source": [
    "data.raceethnicity.value_counts()"
   ]
  },
  {
   "cell_type": "markdown",
   "metadata": {},
   "source": [
    "Find the relative % for each racial grouping"
   ]
  },
  {
   "cell_type": "code",
   "execution_count": 9,
   "metadata": {},
   "outputs": [
    {
     "data": {
      "text/plain": [
       "White                     0.495413\n",
       "Black                     0.291284\n",
       "Hispanic/Latino           0.149083\n",
       "Unknown                   0.032110\n",
       "Asian/Pacific Islander    0.022936\n",
       "Native American           0.009174\n",
       "Name: raceethnicity, dtype: float64"
      ]
     },
     "execution_count": 9,
     "metadata": {},
     "output_type": "execute_result"
    }
   ],
   "source": [
    "data.raceethnicity.value_counts(normalize=True)"
   ]
  },
  {
   "cell_type": "markdown",
   "metadata": {},
   "source": [
    "How do the killings compare with the overall US breakdown of population by race?"
   ]
  },
  {
   "cell_type": "code",
   "execution_count": null,
   "metadata": {
    "collapsed": true
   },
   "outputs": [],
   "source": []
  },
  {
   "cell_type": "markdown",
   "metadata": {},
   "source": [
    "### Assignment\n",
    "\n",
    "- Graph the killings by race using a bar chart. Make sure to label the graph and axes\n",
    "- Graph the killings by \"p_income\" using a histogram with different bin amounts (remember to remove any \"-\" values)\n",
    "- Calculate the median \"p_income\""
   ]
  },
  {
   "cell_type": "code",
   "execution_count": 10,
   "metadata": {},
   "outputs": [
    {
     "data": {
      "image/png": "[encoded data removed]",
      "text/plain": [
       "<matplotlib.figure.Figure at 0x10bae3e80>"
      ]
     },
     "metadata": {},
     "output_type": "display_data"
    }
   ],
   "source": [
    "data.raceethnicity.value_counts(normalize=True).plot(kind='bar', figsize=(6,4));"
   ]
  },
  {
   "cell_type": "code",
   "execution_count": 11,
   "metadata": {},
   "outputs": [
    {
     "data": {
      "text/plain": [
       "0    28375\n",
       "1    14678\n",
       "2    25286\n",
       "3    17194\n",
       "4    33954\n",
       "Name: p_income, dtype: object"
      ]
     },
     "execution_count": 11,
     "metadata": {},
     "output_type": "execute_result"
    }
   ],
   "source": [
    "data.p_income.head()"
   ]
  },
  {
   "cell_type": "code",
   "execution_count": 13,
   "metadata": {},
   "outputs": [
    {
     "data": {
      "text/plain": [
       "array(['28375', '14678', '25286', '17194', '33954', '15523', '25949',\n",
       "       '25043', '16778', '22005', '26916', '51186', '27414', '25563',\n",
       "       '25998', '20027', '23205', '29881', '41676', '37455', '27384',\n",
       "       '23342', '22719', '18376', '17695', '21610', '32921', '22441',\n",
       "       '23926', '13231', '19599', '14995', '22968', '34698', '22085',\n",
       "       '21868', '32142', '21769', '15373', '16558', '17853', '20248',\n",
       "       '17225', '26667', '15488', '19978', '18995', '14256', '18843',\n",
       "       '21170', '86023', '22105', '14560', '27813', '28125', '42931',\n",
       "       '20407', '18047', '35827', '17893', '31080', '25130', '35788',\n",
       "       '28556', '27031', '11805', '20428', '31274', '14177', '13805',\n",
       "       '16689', '14746', '8206', '22409', '33294', '22080', '21049',\n",
       "       '37721', '21845', '23583', '14816', '22235', '21264', '21667',\n",
       "       '22472', '25799', '21344', '19146', '38593', '21626', '24749',\n",
       "       '16218', '22833', '39122', '11157', '22857', '12109', '20610',\n",
       "       '10987', '21474', '21109', '18438', '12741', '30061', '29488',\n",
       "       '30491', '18370', '24348', '23883', '41609', '21130', '19598',\n",
       "       '33869', '16983', '23944', '20254', '15656', '26928', '30784',\n",
       "       '19921', '18257', '32088', '26846', '36099', '22193', '19031',\n",
       "       '28490', '21858', '14520', '21837', '19755', '20623', '51071',\n",
       "       '21342', '13968', '16415', '24026', '37922', '17632', '31009',\n",
       "       '35008', '16953', '20644', '31930', '27255', '19343', '22177',\n",
       "       '16620', '27273', '26675', '18976', '37028', '31776', '18363',\n",
       "       '23716', '23444', '30261', '25030', '14227', '23467', '21261',\n",
       "       '31641', '41377', '18397', '40529', '22384', '23683', '20405',\n",
       "       '27745', '36727', '21693', '26643', '17223', '14932', '16615',\n",
       "       '27432', '21306', '20836', '14048', '18727', '17433', '14504',\n",
       "       '11338', '15489', '30391', '38810', '30489', '22255', '24705',\n",
       "       '41719', '20213', '22947', '10219', '22021', '11184', '19808',\n",
       "       '18029', '18975', '37476', '19868', '25865', '28397', '22750',\n",
       "       '19032', '12297', '26314', '15289', '30625', '36696', '35194',\n",
       "       '17493', '19218', '16616', '37967', '26001', '27355', '32602',\n",
       "       '20860', '18750', '21988', '23243', '48922', '23940', '27385',\n",
       "       '24076', '34326', '22016', '23378', '32902', '45333', '32466',\n",
       "       '16670', '26030', '22158', '14765', '15511', '28062', '15480',\n",
       "       '23633', '27172', '17213', '19316', '24332', '22628', '30661',\n",
       "       '30908', '22995', '19474', '13130', '23280', '40021', '21955',\n",
       "       '33918', '19136', '25279', '23974', '29893', '23250', '14754',\n",
       "       '32211', '18760', '34176', '25226', '36305', '41145', '14332',\n",
       "       '26583', '23750', '20075', '26067', '17693', '18978', '19645',\n",
       "       '29959', '35089', '17901', '27077', '54036', '28730', '12376',\n",
       "       '20072', '11425', '22537', '26119', '5457', '17474', '15542',\n",
       "       '24858', '19029', '13143', '17026', '25190', '19400', '30332',\n",
       "       '64657', '33875', '25839', '29511', '21506', '20296', '17696',\n",
       "       '13939', '27917', '13929', '30533', '18472', '20297', '30723',\n",
       "       '23011', '18022', '49269', '14457', '11405', '21008', '15892',\n",
       "       '21082', '5688', '21831', '21131', '42774', '16071', '45795',\n",
       "       '16012', '42519', '40693', '9353', '22057', '39531', '15628',\n",
       "       '25755', '36062', '37453', '17402', '34516', '23844', '40387',\n",
       "       '22132', '17401', '43458', '14964', '15556', '28690', '18174',\n",
       "       '25034', '20761', '26047', '26741', '26101', '28781', '22348',\n",
       "       '21115', '27875', '31969', '20153', '30540', '18133', '32242',\n",
       "       '30472', '25977', '14162', '12930', '24236', '19151', '20900',\n",
       "       '43062', '21374', '15632', '19746', '23143', '44430', '17467',\n",
       "       '33110', '44585', '19149', '16065', '24352', '29056', '21509',\n",
       "       '20164', '26143', '21908', '19044', '15686', '21658', '20685',\n",
       "       '20423', '29741', '15252', '12961', '11576', '31524', '26566',\n",
       "       '16745', '18371', '15871', '11656', '36216', '17367', '36394',\n",
       "       '18999', '26934', '15498', '27719', '35028', '22213', '35316',\n",
       "       '26597', '22969', '29695', '16940', '52896', '27535', '14963',\n",
       "       '54494', '31761', '42312', '31470', '25262', '18470', '21175',\n",
       "       '26971', '33590'], dtype=object)"
      ]
     },
     "execution_count": 13,
     "metadata": {},
     "output_type": "execute_result"
    }
   ],
   "source": [
    "data.p_income.unique()"
   ]
  },
  {
   "cell_type": "code",
   "execution_count": 24,
   "metadata": {},
   "outputs": [
    {
     "data": {
      "image/png": "[encoded data removed]",
      "text/plain": [
       "<matplotlib.figure.Figure at 0x111b5a2b0>"
      ]
     },
     "metadata": {},
     "output_type": "display_data"
    }
   ],
   "source": [
    "plt.hist(data.p_income.astype(int), bins=25);"
   ]
  },
  {
   "cell_type": "markdown",
   "metadata": {},
   "source": [
    "Calculate the median \"p_income\":"
   ]
  },
  {
   "cell_type": "code",
   "execution_count": 25,
   "metadata": {},
   "outputs": [
    {
     "data": {
      "text/plain": [
       "24358.311926605504"
      ]
     },
     "execution_count": 25,
     "metadata": {},
     "output_type": "execute_result"
    }
   ],
   "source": [
    "data.p_income.astype(int).mean()"
   ]
  },
  {
   "cell_type": "markdown",
   "metadata": {},
   "source": [
    "### Assignment\n",
    "\n",
    "- Find the total killings per each state\n",
    "- Create a new dataframe and remove any \"-\" from the following columns \"share_white\", \"share_black\" and \"share_hispanic\" \n",
    "- Convert the values in those columns to float types\n",
    "- Find the mean of 'pop', 'county_income' and those 3 columns for the following subsets\n",
    "    \n",
    "    lowest_states = [\"CT\", \"PA\", \"IA\", \"NY\", \"MA\", \"NH\", \"ME\", \"IL\", \"OH\", \"WI\"]\n",
    "    \n",
    "    highest_states = [\"OK\", \"AZ\", \"NE\", \"HI\", \"AK\", \"ID\", \"NM\", \"LA\", \"CO\", \"DE\"]"
   ]
  },
  {
   "cell_type": "code",
   "execution_count": 26,
   "metadata": {},
   "outputs": [
    {
     "data": {
      "text/plain": [
       "CA    74\n",
       "TX    42\n",
       "FL    28\n",
       "AZ    24\n",
       "OK    18\n",
       "NY    13\n",
       "GA    13\n",
       "WA    11\n",
       "NJ    10\n",
       "CO    10\n",
       "MO    10\n",
       "NC    10\n",
       "IL    10\n",
       "LA     9\n",
       "MD     9\n",
       "OH     9\n",
       "MI     9\n",
       "VA     8\n",
       "AL     8\n",
       "IN     8\n",
       "SC     8\n",
       "OR     7\n",
       "PA     7\n",
       "TN     6\n",
       "KS     6\n",
       "KY     6\n",
       "MN     6\n",
       "NE     5\n",
       "WI     5\n",
       "MA     5\n",
       "NM     5\n",
       "HI     4\n",
       "MS     4\n",
       "AR     4\n",
       "UT     4\n",
       "NV     3\n",
       "ID     3\n",
       "AK     2\n",
       "MT     2\n",
       "IA     2\n",
       "DE     2\n",
       "WV     2\n",
       "CT     1\n",
       "WY     1\n",
       "ME     1\n",
       "NH     1\n",
       "DC     1\n",
       "Name: state, dtype: int64"
      ]
     },
     "execution_count": 26,
     "metadata": {},
     "output_type": "execute_result"
    }
   ],
   "source": [
    "data.state.value_counts()"
   ]
  },
  {
   "cell_type": "code",
   "execution_count": 41,
   "metadata": {
    "collapsed": true
   },
   "outputs": [],
   "source": [
    "df = data[[ \"share_white\", \"share_black\", \"share_hispanic\"]]"
   ]
  },
  {
   "cell_type": "code",
   "execution_count": 42,
   "metadata": {},
   "outputs": [
    {
     "data": {
      "text/html": [
       "<div>\n",
       "<table border=\"1\" class=\"dataframe\">\n",
       "  <thead>\n",
       "    <tr style=\"text-align: right;\">\n",
       "      <th></th>\n",
       "      <th>share_white</th>\n",
       "      <th>share_black</th>\n",
       "      <th>share_hispanic</th>\n",
       "    </tr>\n",
       "  </thead>\n",
       "  <tbody>\n",
       "    <tr>\n",
       "      <th>0</th>\n",
       "      <td>60.5</td>\n",
       "      <td>30.5</td>\n",
       "      <td>5.6</td>\n",
       "    </tr>\n",
       "    <tr>\n",
       "      <th>1</th>\n",
       "      <td>53.8</td>\n",
       "      <td>36.2</td>\n",
       "      <td>0.5</td>\n",
       "    </tr>\n",
       "    <tr>\n",
       "      <th>2</th>\n",
       "      <td>73.8</td>\n",
       "      <td>7.7</td>\n",
       "      <td>16.8</td>\n",
       "    </tr>\n",
       "    <tr>\n",
       "      <th>3</th>\n",
       "      <td>1.2</td>\n",
       "      <td>0.6</td>\n",
       "      <td>98.8</td>\n",
       "    </tr>\n",
       "    <tr>\n",
       "      <th>4</th>\n",
       "      <td>92.5</td>\n",
       "      <td>1.4</td>\n",
       "      <td>1.7</td>\n",
       "    </tr>\n",
       "  </tbody>\n",
       "</table>\n",
       "</div>"
      ],
      "text/plain": [
       "  share_white share_black share_hispanic\n",
       "0        60.5        30.5            5.6\n",
       "1        53.8        36.2            0.5\n",
       "2        73.8         7.7           16.8\n",
       "3         1.2         0.6           98.8\n",
       "4        92.5         1.4            1.7"
      ]
     },
     "execution_count": 42,
     "metadata": {},
     "output_type": "execute_result"
    }
   ],
   "source": [
    "df.head()"
   ]
  },
  {
   "cell_type": "code",
   "execution_count": 44,
   "metadata": {},
   "outputs": [],
   "source": [
    "df = df.astype(float)"
   ]
  },
  {
   "cell_type": "code",
   "execution_count": 45,
   "metadata": {},
   "outputs": [
    {
     "name": "stdout",
     "output_type": "stream",
     "text": [
      "<class 'pandas.core.frame.DataFrame'>\n",
      "Int64Index: 436 entries, 0 to 466\n",
      "Data columns (total 3 columns):\n",
      "share_white       436 non-null float64\n",
      "share_black       436 non-null float64\n",
      "share_hispanic    436 non-null float64\n",
      "dtypes: float64(3)\n",
      "memory usage: 13.6 KB\n"
     ]
    }
   ],
   "source": [
    "df.info()"
   ]
  },
  {
   "cell_type": "code",
   "execution_count": 46,
   "metadata": {
    "collapsed": true
   },
   "outputs": [],
   "source": [
    "df['state'] = data.state"
   ]
  },
  {
   "cell_type": "code",
   "execution_count": 48,
   "metadata": {},
   "outputs": [
    {
     "data": {
      "text/html": [
       "<div>\n",
       "<table border=\"1\" class=\"dataframe\">\n",
       "  <thead>\n",
       "    <tr style=\"text-align: right;\">\n",
       "      <th></th>\n",
       "      <th>share_white</th>\n",
       "      <th>share_black</th>\n",
       "      <th>share_hispanic</th>\n",
       "      <th>state</th>\n",
       "    </tr>\n",
       "  </thead>\n",
       "  <tbody>\n",
       "    <tr>\n",
       "      <th>0</th>\n",
       "      <td>60.5</td>\n",
       "      <td>30.5</td>\n",
       "      <td>5.6</td>\n",
       "      <td>AL</td>\n",
       "    </tr>\n",
       "    <tr>\n",
       "      <th>1</th>\n",
       "      <td>53.8</td>\n",
       "      <td>36.2</td>\n",
       "      <td>0.5</td>\n",
       "      <td>LA</td>\n",
       "    </tr>\n",
       "    <tr>\n",
       "      <th>2</th>\n",
       "      <td>73.8</td>\n",
       "      <td>7.7</td>\n",
       "      <td>16.8</td>\n",
       "      <td>WI</td>\n",
       "    </tr>\n",
       "    <tr>\n",
       "      <th>3</th>\n",
       "      <td>1.2</td>\n",
       "      <td>0.6</td>\n",
       "      <td>98.8</td>\n",
       "      <td>CA</td>\n",
       "    </tr>\n",
       "    <tr>\n",
       "      <th>4</th>\n",
       "      <td>92.5</td>\n",
       "      <td>1.4</td>\n",
       "      <td>1.7</td>\n",
       "      <td>OH</td>\n",
       "    </tr>\n",
       "  </tbody>\n",
       "</table>\n",
       "</div>"
      ],
      "text/plain": [
       "   share_white  share_black  share_hispanic state\n",
       "0         60.5         30.5             5.6    AL\n",
       "1         53.8         36.2             0.5    LA\n",
       "2         73.8          7.7            16.8    WI\n",
       "3          1.2          0.6            98.8    CA\n",
       "4         92.5          1.4             1.7    OH"
      ]
     },
     "execution_count": 48,
     "metadata": {},
     "output_type": "execute_result"
    }
   ],
   "source": [
    "df.head()"
   ]
  },
  {
   "cell_type": "code",
   "execution_count": 58,
   "metadata": {
    "collapsed": true
   },
   "outputs": [],
   "source": [
    "df['pop'] = data['pop'].astype(int)\n",
    "df[\"county_income\"] = data['county_income'].astype(int)"
   ]
  },
  {
   "cell_type": "code",
   "execution_count": 59,
   "metadata": {},
   "outputs": [
    {
     "data": {
      "text/html": [
       "<div>\n",
       "<table border=\"1\" class=\"dataframe\">\n",
       "  <thead>\n",
       "    <tr style=\"text-align: right;\">\n",
       "      <th></th>\n",
       "      <th>share_white</th>\n",
       "      <th>share_black</th>\n",
       "      <th>share_hispanic</th>\n",
       "      <th>state</th>\n",
       "      <th>pop</th>\n",
       "      <th>county_income</th>\n",
       "    </tr>\n",
       "  </thead>\n",
       "  <tbody>\n",
       "    <tr>\n",
       "      <th>0</th>\n",
       "      <td>60.5</td>\n",
       "      <td>30.5</td>\n",
       "      <td>5.6</td>\n",
       "      <td>AL</td>\n",
       "      <td>3779</td>\n",
       "      <td>54766</td>\n",
       "    </tr>\n",
       "    <tr>\n",
       "      <th>1</th>\n",
       "      <td>53.8</td>\n",
       "      <td>36.2</td>\n",
       "      <td>0.5</td>\n",
       "      <td>LA</td>\n",
       "      <td>2769</td>\n",
       "      <td>40930</td>\n",
       "    </tr>\n",
       "    <tr>\n",
       "      <th>2</th>\n",
       "      <td>73.8</td>\n",
       "      <td>7.7</td>\n",
       "      <td>16.8</td>\n",
       "      <td>WI</td>\n",
       "      <td>4079</td>\n",
       "      <td>54930</td>\n",
       "    </tr>\n",
       "    <tr>\n",
       "      <th>3</th>\n",
       "      <td>1.2</td>\n",
       "      <td>0.6</td>\n",
       "      <td>98.8</td>\n",
       "      <td>CA</td>\n",
       "      <td>4343</td>\n",
       "      <td>55909</td>\n",
       "    </tr>\n",
       "    <tr>\n",
       "      <th>4</th>\n",
       "      <td>92.5</td>\n",
       "      <td>1.4</td>\n",
       "      <td>1.7</td>\n",
       "      <td>OH</td>\n",
       "      <td>6809</td>\n",
       "      <td>49669</td>\n",
       "    </tr>\n",
       "  </tbody>\n",
       "</table>\n",
       "</div>"
      ],
      "text/plain": [
       "   share_white  share_black  share_hispanic state   pop  county_income\n",
       "0         60.5         30.5             5.6    AL  3779          54766\n",
       "1         53.8         36.2             0.5    LA  2769          40930\n",
       "2         73.8          7.7            16.8    WI  4079          54930\n",
       "3          1.2          0.6            98.8    CA  4343          55909\n",
       "4         92.5          1.4             1.7    OH  6809          49669"
      ]
     },
     "execution_count": 59,
     "metadata": {},
     "output_type": "execute_result"
    }
   ],
   "source": [
    "df.head()"
   ]
  },
  {
   "cell_type": "markdown",
   "metadata": {},
   "source": [
    "Find the mean of 'pop', 'county_income' and those 3 columns for the following subsets"
   ]
  },
  {
   "cell_type": "code",
   "execution_count": 60,
   "metadata": {
    "collapsed": true
   },
   "outputs": [],
   "source": [
    "lowest_states = [\"CT\", \"PA\", \"IA\", \"NY\", \"MA\", \"NH\", \"ME\", \"IL\", \"OH\", \"WI\"]\n",
    "highest_states = [\"OK\", \"AZ\", \"NE\", \"HI\", \"AK\", \"ID\", \"NM\", \"LA\", \"CO\", \"DE\"]"
   ]
  },
  {
   "cell_type": "code",
   "execution_count": 107,
   "metadata": {},
   "outputs": [],
   "source": [
    "mask_lowest_states = df.state.isin(lowest_states)"
   ]
  },
  {
   "cell_type": "code",
   "execution_count": 108,
   "metadata": {},
   "outputs": [
    {
     "data": {
      "text/plain": [
       "share_white          61.303704\n",
       "share_black          20.107407\n",
       "share_hispanic       13.335185\n",
       "pop                4264.833333\n",
       "county_income     55083.666667\n",
       "dtype: float64"
      ]
     },
     "execution_count": 108,
     "metadata": {},
     "output_type": "execute_result"
    }
   ],
   "source": [
    "df[mask_lowest_states].mean()"
   ]
  },
  {
   "cell_type": "code",
   "execution_count": 109,
   "metadata": {
    "collapsed": true
   },
   "outputs": [],
   "source": [
    "mask_highest_states = df.state.isin(highest_states)"
   ]
  },
  {
   "cell_type": "code",
   "execution_count": 111,
   "metadata": {},
   "outputs": [
    {
     "data": {
      "text/plain": [
       "share_white          54.157317\n",
       "share_black          12.236585\n",
       "share_hispanic       21.673171\n",
       "pop                4243.914634\n",
       "county_income     48860.707317\n",
       "dtype: float64"
      ]
     },
     "execution_count": 111,
     "metadata": {},
     "output_type": "execute_result"
    }
   ],
   "source": [
    "df[mask_highest_states].mean()"
   ]
  },
  {
   "cell_type": "code",
   "execution_count": null,
   "metadata": {
    "collapsed": true
   },
   "outputs": [],
   "source": []
  }
 ],
 "metadata": {
  "anaconda-cloud": {},
  "kernelspec": {
   "display_name": "Python [conda env:py36]",
   "language": "python",
   "name": "conda-env-py36-py"
  },
  "language_info": {
   "codemirror_mode": {
    "name": "ipython",
    "version": 3
   },
   "file_extension": ".py",
   "mimetype": "text/x-python",
   "name": "python",
   "nbconvert_exporter": "python",
   "pygments_lexer": "ipython3",
   "version": "3.6.0"
  }
 },
 "nbformat": 4,
 "nbformat_minor": 1
}
