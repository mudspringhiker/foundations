{
 "cells": [
  {
   "cell_type": "markdown",
   "metadata": {},
   "source": [
    "## Data Analysis with pandas\n",
    "\n",
    "Each survey respondent was asked questions about what they typically eat for Thanksgiving, along with some demographic questions, like their gender, income, and location. This dataset will allow us to discover regional and income-based patterns in what Americans eat for Thanksgiving dinner.\n",
    "\n",
    "Using this Thanksgiving survey data, we can answer quite a few interesting questions, like:\n",
    "\n",
    "- Do people in Suburban areas eat more Tofurkey than people in Rural areas?\n",
    "- Where do people go to Black Friday sales most often?\n",
    "- Is there a correlation between praying on Thanksgiving and income?\n",
    "- What income groups are most likely to have homemade cranberry sauce?"
   ]
  },
  {
   "cell_type": "markdown",
   "metadata": {},
   "source": [
    "### Task 1 - Load Data\n",
    "\n",
    "- Read about the [data set](https://github.com/fivethirtyeight/data/tree/master/thanksgiving-2015)\n",
    "- Read in the data to pandas\n",
    "- Check the shape of the dataframe and examine the different columns\n",
    "- Check the summary statistics of the dataframe"
   ]
  },
  {
   "cell_type": "code",
   "execution_count": null,
   "metadata": {
    "collapsed": true
   },
   "outputs": [],
   "source": []
  },
  {
   "cell_type": "markdown",
   "metadata": {},
   "source": [
    "### Task 2 - Initial Data Analysis\n",
    "\n",
    "- Create a new dataframe that only includes people that celebrate Thanksgiving\n",
    "- Find out what the most popular main dish is.\n",
    "- Do people who eat Tofurkey also have gravy as a side dish (calculate proportions)?\n",
    "- What is the most popular pie?\n",
    "- How many pies are eaten other than Apple, Pecan and Pumpkin?\n",
    "- Look at the age distribution.\n",
    "- Write a function that approximates each respondent's age given the ranges and apply it to all cells (remember type conversion).\n",
    "- Examine the summary statistics of the age column now.\n",
    "- Look at the income distribution.\n",
    "- Write a function that approximates each respondent's income given the ranges and apply it to all cells (remember type conversion).\n",
    "- Examine the summary statistics of the income column now.\n",
    "- Look at the distance traveled for lower income (< 50,000) vs. higher income (>150,000) respondents.\n",
    "- Use the pivot_table function to examine what ages and incomes are more likely to \"attend a Friendsgiving\" or \"meetup with hometown friends.\n"
   ]
  },
  {
   "cell_type": "code",
   "execution_count": null,
   "metadata": {
    "collapsed": true
   },
   "outputs": [],
   "source": []
  },
  {
   "cell_type": "markdown",
   "metadata": {},
   "source": [
    "### Task 3 - Visualization\n",
    "\n",
    "matplotlib\n",
    "- Use groupby to examine the breakdown of income by type of cranberry sauce\n",
    "- Use agg to compute the mean and plot the results in a bar chart\n",
    "- Use agg to find the average income of people who eat \"Homemade\" cranberry sauce and \"Tofurkey\"\n",
    "- Choose an appropriate plot or chart to visualize the results"
   ]
  },
  {
   "cell_type": "code",
   "execution_count": null,
   "metadata": {
    "collapsed": true
   },
   "outputs": [],
   "source": []
  }
 ],
 "metadata": {
  "anaconda-cloud": {},
  "kernelspec": {
   "display_name": "Python [default]",
   "language": "python",
   "name": "python3"
  },
  "language_info": {
   "codemirror_mode": {
    "name": "ipython",
    "version": 3
   },
   "file_extension": ".py",
   "mimetype": "text/x-python",
   "name": "python",
   "nbconvert_exporter": "python",
   "pygments_lexer": "ipython3",
   "version": "3.5.2"
  }
 },
 "nbformat": 4,
 "nbformat_minor": 1
}
