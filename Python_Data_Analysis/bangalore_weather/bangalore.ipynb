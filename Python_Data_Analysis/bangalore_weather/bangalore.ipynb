{
 "cells": [
  {
   "cell_type": "markdown",
   "metadata": {},
   "source": [
    "## Data Analysis with pandas\n",
    "\n",
    "We are going to examine data from the [Bangalore Open Data Repository](https://github.com/openbangalore/bangalore). Bangalore is the 3rd most populous city in India and widely regarded as the Silicon Valley of India."
   ]
  },
  {
   "cell_type": "markdown",
   "metadata": {},
   "source": [
    "### Task 1 - Load Data\n",
    "\n",
    "- Read in the data to pandas\n",
    "- Check the shape of the dataframe\n",
    "- Check the summary statistics of the dataframe\n",
    "- Change the row index to the \"Year\" column"
   ]
  },
  {
   "cell_type": "code",
   "execution_count": 1,
   "metadata": {
    "collapsed": true
   },
   "outputs": [],
   "source": [
    "import pandas as pd"
   ]
  },
  {
   "cell_type": "code",
   "execution_count": 2,
   "metadata": {},
   "outputs": [],
   "source": [
    "data = pd.read_csv('bangalore_temparature.tsv', sep='\\t')"
   ]
  },
  {
   "cell_type": "code",
   "execution_count": 3,
   "metadata": {},
   "outputs": [
    {
     "data": {
      "text/html": [
       "<div>\n",
       "<table border=\"1\" class=\"dataframe\">\n",
       "  <thead>\n",
       "    <tr style=\"text-align: right;\">\n",
       "      <th></th>\n",
       "      <th>Year</th>\n",
       "      <th>Jan</th>\n",
       "      <th>Feb</th>\n",
       "      <th>Mar</th>\n",
       "      <th>Apr</th>\n",
       "      <th>May</th>\n",
       "      <th>Jun</th>\n",
       "      <th>Jul</th>\n",
       "      <th>Aug</th>\n",
       "      <th>Sep</th>\n",
       "      <th>Oct</th>\n",
       "      <th>Nov</th>\n",
       "      <th>Dec</th>\n",
       "    </tr>\n",
       "  </thead>\n",
       "  <tbody>\n",
       "    <tr>\n",
       "      <th>0</th>\n",
       "      <td>1901</td>\n",
       "      <td>23.094</td>\n",
       "      <td>24.243</td>\n",
       "      <td>25.398</td>\n",
       "      <td>27.740</td>\n",
       "      <td>26.328</td>\n",
       "      <td>24.735</td>\n",
       "      <td>23.969</td>\n",
       "      <td>24.154</td>\n",
       "      <td>25.097</td>\n",
       "      <td>24.301</td>\n",
       "      <td>23.09</td>\n",
       "      <td>21.000</td>\n",
       "    </tr>\n",
       "    <tr>\n",
       "      <th>1</th>\n",
       "      <td>1902</td>\n",
       "      <td>21.588</td>\n",
       "      <td>22.930</td>\n",
       "      <td>26.277</td>\n",
       "      <td>27.442</td>\n",
       "      <td>27.118</td>\n",
       "      <td>25.477</td>\n",
       "      <td>24.428</td>\n",
       "      <td>25.019</td>\n",
       "      <td>23.940</td>\n",
       "      <td>23.759</td>\n",
       "      <td>22.79</td>\n",
       "      <td>22.184</td>\n",
       "    </tr>\n",
       "  </tbody>\n",
       "</table>\n",
       "</div>"
      ],
      "text/plain": [
       "   Year     Jan     Feb     Mar     Apr     May     Jun     Jul     Aug  \\\n",
       "0  1901  23.094  24.243  25.398  27.740  26.328  24.735  23.969  24.154   \n",
       "1  1902  21.588  22.930  26.277  27.442  27.118  25.477  24.428  25.019   \n",
       "\n",
       "      Sep     Oct    Nov     Dec  \n",
       "0  25.097  24.301  23.09  21.000  \n",
       "1  23.940  23.759  22.79  22.184  "
      ]
     },
     "execution_count": 3,
     "metadata": {},
     "output_type": "execute_result"
    }
   ],
   "source": [
    "data.head(2)"
   ]
  },
  {
   "cell_type": "code",
   "execution_count": 4,
   "metadata": {},
   "outputs": [
    {
     "data": {
      "text/plain": [
       "(102, 13)"
      ]
     },
     "execution_count": 4,
     "metadata": {},
     "output_type": "execute_result"
    }
   ],
   "source": [
    "data.shape"
   ]
  },
  {
   "cell_type": "code",
   "execution_count": 5,
   "metadata": {},
   "outputs": [
    {
     "data": {
      "text/html": [
       "<div>\n",
       "<table border=\"1\" class=\"dataframe\">\n",
       "  <thead>\n",
       "    <tr style=\"text-align: right;\">\n",
       "      <th></th>\n",
       "      <th>Year</th>\n",
       "      <th>Jan</th>\n",
       "      <th>Feb</th>\n",
       "      <th>Mar</th>\n",
       "      <th>Apr</th>\n",
       "      <th>May</th>\n",
       "      <th>Jun</th>\n",
       "      <th>Jul</th>\n",
       "      <th>Aug</th>\n",
       "      <th>Sep</th>\n",
       "      <th>Oct</th>\n",
       "      <th>Nov</th>\n",
       "      <th>Dec</th>\n",
       "    </tr>\n",
       "  </thead>\n",
       "  <tbody>\n",
       "    <tr>\n",
       "      <th>count</th>\n",
       "      <td>102.000000</td>\n",
       "      <td>102.000000</td>\n",
       "      <td>102.000000</td>\n",
       "      <td>102.000000</td>\n",
       "      <td>102.000000</td>\n",
       "      <td>102.000000</td>\n",
       "      <td>102.000000</td>\n",
       "      <td>102.000000</td>\n",
       "      <td>102.000000</td>\n",
       "      <td>102.000000</td>\n",
       "      <td>102.000000</td>\n",
       "      <td>102.000000</td>\n",
       "      <td>102.000000</td>\n",
       "    </tr>\n",
       "    <tr>\n",
       "      <th>mean</th>\n",
       "      <td>1951.500000</td>\n",
       "      <td>22.122088</td>\n",
       "      <td>24.028069</td>\n",
       "      <td>26.375049</td>\n",
       "      <td>27.844608</td>\n",
       "      <td>27.108118</td>\n",
       "      <td>24.923186</td>\n",
       "      <td>23.985824</td>\n",
       "      <td>24.125373</td>\n",
       "      <td>24.347304</td>\n",
       "      <td>24.100167</td>\n",
       "      <td>22.882186</td>\n",
       "      <td>21.759961</td>\n",
       "    </tr>\n",
       "    <tr>\n",
       "      <th>std</th>\n",
       "      <td>29.588849</td>\n",
       "      <td>0.617820</td>\n",
       "      <td>0.732336</td>\n",
       "      <td>0.656179</td>\n",
       "      <td>0.558630</td>\n",
       "      <td>0.636558</td>\n",
       "      <td>0.547904</td>\n",
       "      <td>0.485182</td>\n",
       "      <td>0.373501</td>\n",
       "      <td>0.520555</td>\n",
       "      <td>0.458388</td>\n",
       "      <td>0.581238</td>\n",
       "      <td>0.554744</td>\n",
       "    </tr>\n",
       "    <tr>\n",
       "      <th>min</th>\n",
       "      <td>1901.000000</td>\n",
       "      <td>20.699000</td>\n",
       "      <td>22.145000</td>\n",
       "      <td>24.791000</td>\n",
       "      <td>26.725000</td>\n",
       "      <td>25.378000</td>\n",
       "      <td>23.621000</td>\n",
       "      <td>22.770000</td>\n",
       "      <td>23.090000</td>\n",
       "      <td>23.189000</td>\n",
       "      <td>22.838000</td>\n",
       "      <td>21.693000</td>\n",
       "      <td>20.648000</td>\n",
       "    </tr>\n",
       "    <tr>\n",
       "      <th>25%</th>\n",
       "      <td>1926.250000</td>\n",
       "      <td>21.768250</td>\n",
       "      <td>23.502250</td>\n",
       "      <td>25.965000</td>\n",
       "      <td>27.452000</td>\n",
       "      <td>26.691500</td>\n",
       "      <td>24.601000</td>\n",
       "      <td>23.620000</td>\n",
       "      <td>23.856000</td>\n",
       "      <td>23.977500</td>\n",
       "      <td>23.827000</td>\n",
       "      <td>22.438250</td>\n",
       "      <td>21.313000</td>\n",
       "    </tr>\n",
       "    <tr>\n",
       "      <th>50%</th>\n",
       "      <td>1951.500000</td>\n",
       "      <td>22.187000</td>\n",
       "      <td>24.074000</td>\n",
       "      <td>26.462500</td>\n",
       "      <td>27.899000</td>\n",
       "      <td>27.231000</td>\n",
       "      <td>24.932500</td>\n",
       "      <td>24.022500</td>\n",
       "      <td>24.080500</td>\n",
       "      <td>24.351000</td>\n",
       "      <td>24.149500</td>\n",
       "      <td>22.934500</td>\n",
       "      <td>21.826500</td>\n",
       "    </tr>\n",
       "    <tr>\n",
       "      <th>75%</th>\n",
       "      <td>1976.750000</td>\n",
       "      <td>22.476750</td>\n",
       "      <td>24.534000</td>\n",
       "      <td>26.748500</td>\n",
       "      <td>28.213750</td>\n",
       "      <td>27.579250</td>\n",
       "      <td>25.250750</td>\n",
       "      <td>24.293500</td>\n",
       "      <td>24.430250</td>\n",
       "      <td>24.685500</td>\n",
       "      <td>24.354000</td>\n",
       "      <td>23.234000</td>\n",
       "      <td>22.114250</td>\n",
       "    </tr>\n",
       "    <tr>\n",
       "      <th>max</th>\n",
       "      <td>2002.000000</td>\n",
       "      <td>23.530000</td>\n",
       "      <td>26.134000</td>\n",
       "      <td>28.048000</td>\n",
       "      <td>29.068000</td>\n",
       "      <td>28.272000</td>\n",
       "      <td>26.427000</td>\n",
       "      <td>25.190000</td>\n",
       "      <td>25.019000</td>\n",
       "      <td>25.869000</td>\n",
       "      <td>25.413000</td>\n",
       "      <td>24.478000</td>\n",
       "      <td>23.124000</td>\n",
       "    </tr>\n",
       "  </tbody>\n",
       "</table>\n",
       "</div>"
      ],
      "text/plain": [
       "              Year         Jan         Feb         Mar         Apr  \\\n",
       "count   102.000000  102.000000  102.000000  102.000000  102.000000   \n",
       "mean   1951.500000   22.122088   24.028069   26.375049   27.844608   \n",
       "std      29.588849    0.617820    0.732336    0.656179    0.558630   \n",
       "min    1901.000000   20.699000   22.145000   24.791000   26.725000   \n",
       "25%    1926.250000   21.768250   23.502250   25.965000   27.452000   \n",
       "50%    1951.500000   22.187000   24.074000   26.462500   27.899000   \n",
       "75%    1976.750000   22.476750   24.534000   26.748500   28.213750   \n",
       "max    2002.000000   23.530000   26.134000   28.048000   29.068000   \n",
       "\n",
       "              May         Jun         Jul         Aug         Sep         Oct  \\\n",
       "count  102.000000  102.000000  102.000000  102.000000  102.000000  102.000000   \n",
       "mean    27.108118   24.923186   23.985824   24.125373   24.347304   24.100167   \n",
       "std      0.636558    0.547904    0.485182    0.373501    0.520555    0.458388   \n",
       "min     25.378000   23.621000   22.770000   23.090000   23.189000   22.838000   \n",
       "25%     26.691500   24.601000   23.620000   23.856000   23.977500   23.827000   \n",
       "50%     27.231000   24.932500   24.022500   24.080500   24.351000   24.149500   \n",
       "75%     27.579250   25.250750   24.293500   24.430250   24.685500   24.354000   \n",
       "max     28.272000   26.427000   25.190000   25.019000   25.869000   25.413000   \n",
       "\n",
       "              Nov         Dec  \n",
       "count  102.000000  102.000000  \n",
       "mean    22.882186   21.759961  \n",
       "std      0.581238    0.554744  \n",
       "min     21.693000   20.648000  \n",
       "25%     22.438250   21.313000  \n",
       "50%     22.934500   21.826500  \n",
       "75%     23.234000   22.114250  \n",
       "max     24.478000   23.124000  "
      ]
     },
     "execution_count": 5,
     "metadata": {},
     "output_type": "execute_result"
    }
   ],
   "source": [
    "data.describe()"
   ]
  },
  {
   "cell_type": "code",
   "execution_count": 6,
   "metadata": {
    "collapsed": true
   },
   "outputs": [],
   "source": [
    "data.index = data.Year"
   ]
  },
  {
   "cell_type": "code",
   "execution_count": 7,
   "metadata": {},
   "outputs": [
    {
     "data": {
      "text/html": [
       "<div>\n",
       "<table border=\"1\" class=\"dataframe\">\n",
       "  <thead>\n",
       "    <tr style=\"text-align: right;\">\n",
       "      <th></th>\n",
       "      <th>Year</th>\n",
       "      <th>Jan</th>\n",
       "      <th>Feb</th>\n",
       "      <th>Mar</th>\n",
       "      <th>Apr</th>\n",
       "      <th>May</th>\n",
       "      <th>Jun</th>\n",
       "      <th>Jul</th>\n",
       "      <th>Aug</th>\n",
       "      <th>Sep</th>\n",
       "      <th>Oct</th>\n",
       "      <th>Nov</th>\n",
       "      <th>Dec</th>\n",
       "    </tr>\n",
       "    <tr>\n",
       "      <th>Year</th>\n",
       "      <th></th>\n",
       "      <th></th>\n",
       "      <th></th>\n",
       "      <th></th>\n",
       "      <th></th>\n",
       "      <th></th>\n",
       "      <th></th>\n",
       "      <th></th>\n",
       "      <th></th>\n",
       "      <th></th>\n",
       "      <th></th>\n",
       "      <th></th>\n",
       "      <th></th>\n",
       "    </tr>\n",
       "  </thead>\n",
       "  <tbody>\n",
       "    <tr>\n",
       "      <th>1901</th>\n",
       "      <td>1901</td>\n",
       "      <td>23.094</td>\n",
       "      <td>24.243</td>\n",
       "      <td>25.398</td>\n",
       "      <td>27.740</td>\n",
       "      <td>26.328</td>\n",
       "      <td>24.735</td>\n",
       "      <td>23.969</td>\n",
       "      <td>24.154</td>\n",
       "      <td>25.097</td>\n",
       "      <td>24.301</td>\n",
       "      <td>23.09</td>\n",
       "      <td>21.000</td>\n",
       "    </tr>\n",
       "    <tr>\n",
       "      <th>1902</th>\n",
       "      <td>1902</td>\n",
       "      <td>21.588</td>\n",
       "      <td>22.930</td>\n",
       "      <td>26.277</td>\n",
       "      <td>27.442</td>\n",
       "      <td>27.118</td>\n",
       "      <td>25.477</td>\n",
       "      <td>24.428</td>\n",
       "      <td>25.019</td>\n",
       "      <td>23.940</td>\n",
       "      <td>23.759</td>\n",
       "      <td>22.79</td>\n",
       "      <td>22.184</td>\n",
       "    </tr>\n",
       "  </tbody>\n",
       "</table>\n",
       "</div>"
      ],
      "text/plain": [
       "      Year     Jan     Feb     Mar     Apr     May     Jun     Jul     Aug  \\\n",
       "Year                                                                         \n",
       "1901  1901  23.094  24.243  25.398  27.740  26.328  24.735  23.969  24.154   \n",
       "1902  1902  21.588  22.930  26.277  27.442  27.118  25.477  24.428  25.019   \n",
       "\n",
       "         Sep     Oct    Nov     Dec  \n",
       "Year                                 \n",
       "1901  25.097  24.301  23.09  21.000  \n",
       "1902  23.940  23.759  22.79  22.184  "
      ]
     },
     "execution_count": 7,
     "metadata": {},
     "output_type": "execute_result"
    }
   ],
   "source": [
    "data.head(2)"
   ]
  },
  {
   "cell_type": "markdown",
   "metadata": {},
   "source": [
    "### Task 2 - Initial Data Analysis\n",
    "\n",
    "- (Chart) How does temperature vary over the year (X-axis is months)?\n",
    "- (Chart) How does temperature vary over the years (X-axis is years)?\n",
    "- Which months had the highest and lowest temperatures in 1960?\n",
    "- What were the highest, lowest and mean values in 1960?\n",
    "- Where were the highest, lowest and mean values in an arbitray year (hint: write a function)?\n",
    "- Which months had the highest and lowest gains in temperature?\n",
    "- Make a histogram, KDE plot and bar plot of the gains."
   ]
  },
  {
   "cell_type": "code",
   "execution_count": null,
   "metadata": {
    "collapsed": true
   },
   "outputs": [],
   "source": []
  },
  {
   "cell_type": "markdown",
   "metadata": {},
   "source": [
    "### Task 3 - Visualization\n",
    "\n",
    "matplotlib\n",
    "- Make a histogram for a particular month.\n",
    "- Compare distributions for 2 months (histograms on subplots).\n",
    "- Compare two years in the same histogram (use color coding).\n",
    "- Define a function to compare two months in the same frame.\n",
    "- Create a box plot for 1 month.\n",
    "- Create a box plot for 2 months on 1 figure.\n",
    "- Create a function that compares 2 months via boxplot.\n",
    "\n",
    "seaborn\n",
    "- Make a KDE plot of one month.\n",
    "- Make a function that compares the KDE plots of 2 months.\n",
    "- Compare the histogram and KDE plots of 2 months on the same figure.\n",
    "- Create a Facetgrid version of the KDE plots. Loop through a months array.\n",
    "- Create a violin plot for 1 month.\n",
    "- Create a violin plot for 2 months on 1 figure.\n",
    "- Create a function that compares 2 months via violin plot."
   ]
  },
  {
   "cell_type": "code",
   "execution_count": null,
   "metadata": {
    "collapsed": true
   },
   "outputs": [],
   "source": []
  },
  {
   "cell_type": "markdown",
   "metadata": {},
   "source": [
    "### Task 4 - Insight\n",
    "\n",
    "- Visually represent the varying temperatures over the entire period.\n",
    "- Find the coldest and warmest months for May over the entire period."
   ]
  },
  {
   "cell_type": "code",
   "execution_count": null,
   "metadata": {
    "collapsed": true
   },
   "outputs": [],
   "source": []
  }
 ],
 "metadata": {
  "anaconda-cloud": {},
  "kernelspec": {
   "display_name": "Python [conda env:py36]",
   "language": "python",
   "name": "conda-env-py36-py"
  },
  "language_info": {
   "codemirror_mode": {
    "name": "ipython",
    "version": 3
   },
   "file_extension": ".py",
   "mimetype": "text/x-python",
   "name": "python",
   "nbconvert_exporter": "python",
   "pygments_lexer": "ipython3",
   "version": "3.6.0"
  }
 },
 "nbformat": 4,
 "nbformat_minor": 1
}
