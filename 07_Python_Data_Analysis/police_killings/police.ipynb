{
 "cells": [
  {
   "cell_type": "markdown",
   "metadata": {},
   "source": [
    "## Police Killings\n",
    "\n",
    "The Guardian launched “The Counted,” an impressive interactive database of Americans killed by police since the start of the year. It started in 2015, but you can check the recent stats for 2016. We will explore the data by race, income and state."
   ]
  },
  {
   "cell_type": "markdown",
   "metadata": {},
   "source": [
    "### Assignment\n",
    "\n",
    "- Import the data and examine the head and columns\n",
    "- Get the total counts for each racial grouping\n",
    "- Find the relative % for each racial grouping\n",
    "- How do the killings compare with the overall US breakdown of population by race?"
   ]
  },
  {
   "cell_type": "code",
   "execution_count": 1,
   "metadata": {
    "collapsed": true
   },
   "outputs": [],
   "source": [
    "import pandas as pd\n",
    "import matplotlib.pyplot as plt\n",
    "%matplotlib inline"
   ]
  },
  {
   "cell_type": "code",
   "execution_count": 2,
   "metadata": {},
   "outputs": [],
   "source": [
    "data = pd.read_csv('police_killings.csv', encoding='ISO-8859-1')"
   ]
  },
  {
   "cell_type": "code",
   "execution_count": 3,
   "metadata": {},
   "outputs": [
    {
     "name": "stdout",
     "output_type": "stream",
     "text": [
      "<class 'pandas.core.frame.DataFrame'>\n",
      "RangeIndex: 467 entries, 0 to 466\n",
      "Data columns (total 34 columns):\n",
      "name                    467 non-null object\n",
      "age                     467 non-null object\n",
      "gender                  467 non-null object\n",
      "raceethnicity           467 non-null object\n",
      "month                   467 non-null object\n",
      "day                     467 non-null int64\n",
      "year                    467 non-null int64\n",
      "streetaddress           463 non-null object\n",
      "city                    467 non-null object\n",
      "state                   467 non-null object\n",
      "latitude                467 non-null float64\n",
      "longitude               467 non-null float64\n",
      "state_fp                467 non-null int64\n",
      "county_fp               467 non-null int64\n",
      "tract_ce                467 non-null int64\n",
      "geo_id                  467 non-null int64\n",
      "county_id               467 non-null int64\n",
      "namelsad                467 non-null object\n",
      "lawenforcementagency    467 non-null object\n",
      "cause                   467 non-null object\n",
      "armed                   467 non-null object\n",
      "pop                     467 non-null int64\n",
      "share_white             467 non-null object\n",
      "share_black             467 non-null object\n",
      "share_hispanic          467 non-null object\n",
      "p_income                467 non-null object\n",
      "h_income                465 non-null float64\n",
      "county_income           467 non-null int64\n",
      "comp_income             465 non-null float64\n",
      "county_bucket           440 non-null float64\n",
      "nat_bucket              465 non-null float64\n",
      "pov                     467 non-null object\n",
      "urate                   465 non-null float64\n",
      "college                 465 non-null float64\n",
      "dtypes: float64(8), int64(9), object(17)\n",
      "memory usage: 124.1+ KB\n"
     ]
    }
   ],
   "source": [
    "data.info()"
   ]
  },
  {
   "cell_type": "code",
   "execution_count": 4,
   "metadata": {},
   "outputs": [
    {
     "data": {
      "text/html": [
       "<div>\n",
       "<table border=\"1\" class=\"dataframe\">\n",
       "  <thead>\n",
       "    <tr style=\"text-align: right;\">\n",
       "      <th></th>\n",
       "      <th>name</th>\n",
       "      <th>age</th>\n",
       "      <th>gender</th>\n",
       "      <th>raceethnicity</th>\n",
       "      <th>month</th>\n",
       "      <th>day</th>\n",
       "      <th>year</th>\n",
       "      <th>streetaddress</th>\n",
       "      <th>city</th>\n",
       "      <th>state</th>\n",
       "      <th>...</th>\n",
       "      <th>share_hispanic</th>\n",
       "      <th>p_income</th>\n",
       "      <th>h_income</th>\n",
       "      <th>county_income</th>\n",
       "      <th>comp_income</th>\n",
       "      <th>county_bucket</th>\n",
       "      <th>nat_bucket</th>\n",
       "      <th>pov</th>\n",
       "      <th>urate</th>\n",
       "      <th>college</th>\n",
       "    </tr>\n",
       "  </thead>\n",
       "  <tbody>\n",
       "    <tr>\n",
       "      <th>0</th>\n",
       "      <td>A'donte Washington</td>\n",
       "      <td>16</td>\n",
       "      <td>Male</td>\n",
       "      <td>Black</td>\n",
       "      <td>February</td>\n",
       "      <td>23</td>\n",
       "      <td>2015</td>\n",
       "      <td>Clearview Ln</td>\n",
       "      <td>Millbrook</td>\n",
       "      <td>AL</td>\n",
       "      <td>...</td>\n",
       "      <td>5.6</td>\n",
       "      <td>28375</td>\n",
       "      <td>51367.0</td>\n",
       "      <td>54766</td>\n",
       "      <td>0.937936</td>\n",
       "      <td>3.0</td>\n",
       "      <td>3.0</td>\n",
       "      <td>14.1</td>\n",
       "      <td>0.097686</td>\n",
       "      <td>0.168510</td>\n",
       "    </tr>\n",
       "    <tr>\n",
       "      <th>1</th>\n",
       "      <td>Aaron Rutledge</td>\n",
       "      <td>27</td>\n",
       "      <td>Male</td>\n",
       "      <td>White</td>\n",
       "      <td>April</td>\n",
       "      <td>2</td>\n",
       "      <td>2015</td>\n",
       "      <td>300 block Iris Park Dr</td>\n",
       "      <td>Pineville</td>\n",
       "      <td>LA</td>\n",
       "      <td>...</td>\n",
       "      <td>0.5</td>\n",
       "      <td>14678</td>\n",
       "      <td>27972.0</td>\n",
       "      <td>40930</td>\n",
       "      <td>0.683411</td>\n",
       "      <td>2.0</td>\n",
       "      <td>1.0</td>\n",
       "      <td>28.8</td>\n",
       "      <td>0.065724</td>\n",
       "      <td>0.111402</td>\n",
       "    </tr>\n",
       "    <tr>\n",
       "      <th>2</th>\n",
       "      <td>Aaron Siler</td>\n",
       "      <td>26</td>\n",
       "      <td>Male</td>\n",
       "      <td>White</td>\n",
       "      <td>March</td>\n",
       "      <td>14</td>\n",
       "      <td>2015</td>\n",
       "      <td>22nd Ave and 56th St</td>\n",
       "      <td>Kenosha</td>\n",
       "      <td>WI</td>\n",
       "      <td>...</td>\n",
       "      <td>16.8</td>\n",
       "      <td>25286</td>\n",
       "      <td>45365.0</td>\n",
       "      <td>54930</td>\n",
       "      <td>0.825869</td>\n",
       "      <td>2.0</td>\n",
       "      <td>3.0</td>\n",
       "      <td>14.6</td>\n",
       "      <td>0.166293</td>\n",
       "      <td>0.147312</td>\n",
       "    </tr>\n",
       "    <tr>\n",
       "      <th>3</th>\n",
       "      <td>Aaron Valdez</td>\n",
       "      <td>25</td>\n",
       "      <td>Male</td>\n",
       "      <td>Hispanic/Latino</td>\n",
       "      <td>March</td>\n",
       "      <td>11</td>\n",
       "      <td>2015</td>\n",
       "      <td>3000 Seminole Ave</td>\n",
       "      <td>South Gate</td>\n",
       "      <td>CA</td>\n",
       "      <td>...</td>\n",
       "      <td>98.8</td>\n",
       "      <td>17194</td>\n",
       "      <td>48295.0</td>\n",
       "      <td>55909</td>\n",
       "      <td>0.863814</td>\n",
       "      <td>3.0</td>\n",
       "      <td>3.0</td>\n",
       "      <td>11.7</td>\n",
       "      <td>0.124827</td>\n",
       "      <td>0.050133</td>\n",
       "    </tr>\n",
       "    <tr>\n",
       "      <th>4</th>\n",
       "      <td>Adam Jovicic</td>\n",
       "      <td>29</td>\n",
       "      <td>Male</td>\n",
       "      <td>White</td>\n",
       "      <td>March</td>\n",
       "      <td>19</td>\n",
       "      <td>2015</td>\n",
       "      <td>364 Hiwood Ave</td>\n",
       "      <td>Munroe Falls</td>\n",
       "      <td>OH</td>\n",
       "      <td>...</td>\n",
       "      <td>1.7</td>\n",
       "      <td>33954</td>\n",
       "      <td>68785.0</td>\n",
       "      <td>49669</td>\n",
       "      <td>1.384868</td>\n",
       "      <td>5.0</td>\n",
       "      <td>4.0</td>\n",
       "      <td>1.9</td>\n",
       "      <td>0.063550</td>\n",
       "      <td>0.403954</td>\n",
       "    </tr>\n",
       "  </tbody>\n",
       "</table>\n",
       "<p>5 rows × 34 columns</p>\n",
       "</div>"
      ],
      "text/plain": [
       "                 name age gender    raceethnicity     month  day  year  \\\n",
       "0  A'donte Washington  16   Male            Black  February   23  2015   \n",
       "1      Aaron Rutledge  27   Male            White     April    2  2015   \n",
       "2         Aaron Siler  26   Male            White     March   14  2015   \n",
       "3        Aaron Valdez  25   Male  Hispanic/Latino     March   11  2015   \n",
       "4        Adam Jovicic  29   Male            White     March   19  2015   \n",
       "\n",
       "            streetaddress          city state    ...     share_hispanic  \\\n",
       "0            Clearview Ln     Millbrook    AL    ...                5.6   \n",
       "1  300 block Iris Park Dr     Pineville    LA    ...                0.5   \n",
       "2    22nd Ave and 56th St       Kenosha    WI    ...               16.8   \n",
       "3       3000 Seminole Ave    South Gate    CA    ...               98.8   \n",
       "4          364 Hiwood Ave  Munroe Falls    OH    ...                1.7   \n",
       "\n",
       "   p_income  h_income  county_income  comp_income  county_bucket  nat_bucket  \\\n",
       "0     28375   51367.0          54766     0.937936            3.0         3.0   \n",
       "1     14678   27972.0          40930     0.683411            2.0         1.0   \n",
       "2     25286   45365.0          54930     0.825869            2.0         3.0   \n",
       "3     17194   48295.0          55909     0.863814            3.0         3.0   \n",
       "4     33954   68785.0          49669     1.384868            5.0         4.0   \n",
       "\n",
       "    pov     urate   college  \n",
       "0  14.1  0.097686  0.168510  \n",
       "1  28.8  0.065724  0.111402  \n",
       "2  14.6  0.166293  0.147312  \n",
       "3  11.7  0.124827  0.050133  \n",
       "4   1.9  0.063550  0.403954  \n",
       "\n",
       "[5 rows x 34 columns]"
      ]
     },
     "execution_count": 4,
     "metadata": {},
     "output_type": "execute_result"
    }
   ],
   "source": [
    "data.head(5)"
   ]
  },
  {
   "cell_type": "code",
   "execution_count": 5,
   "metadata": {
    "collapsed": true
   },
   "outputs": [],
   "source": [
    "data = data.dropna()"
   ]
  },
  {
   "cell_type": "code",
   "execution_count": 6,
   "metadata": {},
   "outputs": [
    {
     "name": "stdout",
     "output_type": "stream",
     "text": [
      "<class 'pandas.core.frame.DataFrame'>\n",
      "Int64Index: 436 entries, 0 to 466\n",
      "Data columns (total 34 columns):\n",
      "name                    436 non-null object\n",
      "age                     436 non-null object\n",
      "gender                  436 non-null object\n",
      "raceethnicity           436 non-null object\n",
      "month                   436 non-null object\n",
      "day                     436 non-null int64\n",
      "year                    436 non-null int64\n",
      "streetaddress           436 non-null object\n",
      "city                    436 non-null object\n",
      "state                   436 non-null object\n",
      "latitude                436 non-null float64\n",
      "longitude               436 non-null float64\n",
      "state_fp                436 non-null int64\n",
      "county_fp               436 non-null int64\n",
      "tract_ce                436 non-null int64\n",
      "geo_id                  436 non-null int64\n",
      "county_id               436 non-null int64\n",
      "namelsad                436 non-null object\n",
      "lawenforcementagency    436 non-null object\n",
      "cause                   436 non-null object\n",
      "armed                   436 non-null object\n",
      "pop                     436 non-null int64\n",
      "share_white             436 non-null object\n",
      "share_black             436 non-null object\n",
      "share_hispanic          436 non-null object\n",
      "p_income                436 non-null object\n",
      "h_income                436 non-null float64\n",
      "county_income           436 non-null int64\n",
      "comp_income             436 non-null float64\n",
      "county_bucket           436 non-null float64\n",
      "nat_bucket              436 non-null float64\n",
      "pov                     436 non-null object\n",
      "urate                   436 non-null float64\n",
      "college                 436 non-null float64\n",
      "dtypes: float64(8), int64(9), object(17)\n",
      "memory usage: 119.2+ KB\n"
     ]
    }
   ],
   "source": [
    "data.info()"
   ]
  },
  {
   "cell_type": "markdown",
   "metadata": {},
   "source": [
    "Get the total counts for each racial grouping:"
   ]
  },
  {
   "cell_type": "code",
   "execution_count": 7,
   "metadata": {},
   "outputs": [
    {
     "data": {
      "text/plain": [
       "6"
      ]
     },
     "execution_count": 7,
     "metadata": {},
     "output_type": "execute_result"
    }
   ],
   "source": [
    "data.raceethnicity.nunique()"
   ]
  },
  {
   "cell_type": "code",
   "execution_count": 8,
   "metadata": {},
   "outputs": [
    {
     "data": {
      "text/plain": [
       "White                     216\n",
       "Black                     127\n",
       "Hispanic/Latino            65\n",
       "Unknown                    14\n",
       "Asian/Pacific Islander     10\n",
       "Native American             4\n",
       "Name: raceethnicity, dtype: int64"
      ]
     },
     "execution_count": 8,
     "metadata": {},
     "output_type": "execute_result"
    }
   ],
   "source": [
    "data.raceethnicity.value_counts()"
   ]
  },
  {
   "cell_type": "markdown",
   "metadata": {},
   "source": [
    "Find the relative % for each racial grouping"
   ]
  },
  {
   "cell_type": "code",
   "execution_count": 9,
   "metadata": {},
   "outputs": [
    {
     "data": {
      "text/plain": [
       "White                     0.495413\n",
       "Black                     0.291284\n",
       "Hispanic/Latino           0.149083\n",
       "Unknown                   0.032110\n",
       "Asian/Pacific Islander    0.022936\n",
       "Native American           0.009174\n",
       "Name: raceethnicity, dtype: float64"
      ]
     },
     "execution_count": 9,
     "metadata": {},
     "output_type": "execute_result"
    }
   ],
   "source": [
    "data.raceethnicity.value_counts(normalize=True)"
   ]
  },
  {
   "cell_type": "markdown",
   "metadata": {},
   "source": [
    "How do the killings compare with the overall US breakdown of population by race?"
   ]
  },
  {
   "cell_type": "code",
   "execution_count": null,
   "metadata": {
    "collapsed": true
   },
   "outputs": [],
   "source": []
  },
  {
   "cell_type": "markdown",
   "metadata": {},
   "source": [
    "### Assignment\n",
    "\n",
    "- Graph the killings by race using a bar chart. Make sure to label the graph and axes\n",
    "- Graph the killings by \"p_income\" using a histogram with different bin amounts (remember to remove any \"-\" values)\n",
    "- Calculate the median \"p_income\""
   ]
  },
  {
   "cell_type": "code",
   "execution_count": 10,
   "metadata": {},
   "outputs": [
    {
     "data": {
      "image/png": "[encoded data removed]",
      "text/plain": [
       "<matplotlib.figure.Figure at 0x10bae3e80>"
      ]
     },
     "metadata": {},
     "output_type": "display_data"
    }
   ],
   "source": [
    "data.raceethnicity.value_counts(normalize=True).plot(kind='bar', figsize=(6,4));"
   ]
  },
  {
   "cell_type": "code",
   "execution_count": 11,
   "metadata": {},
   "outputs": [
    {
     "data": {
      "text/plain": [
       "0    28375\n",
       "1    14678\n",
       "2    25286\n",
       "3    17194\n",
       "4    33954\n",
       "Name: p_income, dtype: object"
      ]
     },
     "execution_count": 11,
     "metadata": {},
     "output_type": "execute_result"
    }
   ],
   "source": [
    "data.p_income.head()"
   ]
  },
  {
   "cell_type": "code",
   "execution_count": null,
   "metadata": {
    "collapsed": true
   },
   "outputs": [],
   "source": []
  },
  {
   "cell_type": "code",
   "execution_count": null,
   "metadata": {
    "collapsed": true
   },
   "outputs": [],
   "source": []
  },
  {
   "cell_type": "markdown",
   "metadata": {},
   "source": [
    "### Assignment\n",
    "\n",
    "- Find the total killings per each state\n",
    "- Create a new dataframe and remove any \"-\" from the following columns \"share_white\", \"share_black\" and \"share_hispanic\" \n",
    "- Convert the values in those columns to float types\n",
    "- Find the mean of 'pop', 'county_income' and those 3 columns for the following subsets\n",
    "    \n",
    "    lowest_states = [\"CT\", \"PA\", \"IA\", \"NY\", \"MA\", \"NH\", \"ME\", \"IL\", \"OH\", \"WI\"]\n",
    "    \n",
    "    highest_states = [\"OK\", \"AZ\", \"NE\", \"HI\", \"AK\", \"ID\", \"NM\", \"LA\", \"CO\", \"DE\"]"
   ]
  }
 ],
 "metadata": {
  "anaconda-cloud": {},
  "kernelspec": {
   "display_name": "Python [conda env:py36]",
   "language": "python",
   "name": "conda-env-py36-py"
  },
  "language_info": {
   "codemirror_mode": {
    "name": "ipython",
    "version": 3
   },
   "file_extension": ".py",
   "mimetype": "text/x-python",
   "name": "python",
   "nbconvert_exporter": "python",
   "pygments_lexer": "ipython3",
   "version": "3.6.0"
  }
 },
 "nbformat": 4,
 "nbformat_minor": 1
}
